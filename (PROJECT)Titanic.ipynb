{
 "cells": [
  {
   "cell_type": "code",
   "execution_count": 113,
   "id": "e9d44f74",
   "metadata": {},
   "outputs": [],
   "source": [
    "import pandas as pd\n",
    "import numpy as np\n",
    "from warnings import filterwarnings\n",
    "filterwarnings('ignore')"
   ]
  },
  {
   "cell_type": "code",
   "execution_count": 114,
   "id": "d563cbe1",
   "metadata": {},
   "outputs": [],
   "source": [
    "import os "
   ]
  },
  {
   "cell_type": "code",
   "execution_count": 115,
   "id": "6e9629b5",
   "metadata": {},
   "outputs": [
    {
     "data": {
      "text/plain": [
       "'test (1).csv'"
      ]
     },
     "execution_count": 115,
     "metadata": {},
     "output_type": "execute_result"
    }
   ],
   "source": [
    "os.listdir(r\"C:\\Users\\20190855029\\data_ML\\titanic\")[1]"
   ]
  },
  {
   "cell_type": "code",
   "execution_count": 116,
   "id": "9df5923d",
   "metadata": {},
   "outputs": [],
   "source": [
    "path = \"C:/Users/20190855029/data_ML/titanic/\""
   ]
  },
  {
   "cell_type": "code",
   "execution_count": 117,
   "id": "86588fb3",
   "metadata": {},
   "outputs": [],
   "source": [
    "train_df = pd.read_csv(path+os.listdir(path)[2])\n",
    "test_df = pd.read_csv(path+os.listdir(path)[1])\n"
   ]
  },
  {
   "cell_type": "code",
   "execution_count": 118,
   "id": "0eed33e9",
   "metadata": {},
   "outputs": [
    {
     "data": {
      "text/html": [
       "<div>\n",
       "<style scoped>\n",
       "    .dataframe tbody tr th:only-of-type {\n",
       "        vertical-align: middle;\n",
       "    }\n",
       "\n",
       "    .dataframe tbody tr th {\n",
       "        vertical-align: top;\n",
       "    }\n",
       "\n",
       "    .dataframe thead th {\n",
       "        text-align: right;\n",
       "    }\n",
       "</style>\n",
       "<table border=\"1\" class=\"dataframe\">\n",
       "  <thead>\n",
       "    <tr style=\"text-align: right;\">\n",
       "      <th></th>\n",
       "      <th>PassengerId</th>\n",
       "      <th>Survived</th>\n",
       "      <th>Pclass</th>\n",
       "      <th>Name</th>\n",
       "      <th>Sex</th>\n",
       "      <th>Age</th>\n",
       "      <th>SibSp</th>\n",
       "      <th>Parch</th>\n",
       "      <th>Ticket</th>\n",
       "      <th>Fare</th>\n",
       "      <th>Cabin</th>\n",
       "      <th>Embarked</th>\n",
       "    </tr>\n",
       "  </thead>\n",
       "  <tbody>\n",
       "    <tr>\n",
       "      <th>0</th>\n",
       "      <td>1</td>\n",
       "      <td>0</td>\n",
       "      <td>3</td>\n",
       "      <td>Braund, Mr. Owen Harris</td>\n",
       "      <td>male</td>\n",
       "      <td>22.0</td>\n",
       "      <td>1</td>\n",
       "      <td>0</td>\n",
       "      <td>A/5 21171</td>\n",
       "      <td>7.2500</td>\n",
       "      <td>NaN</td>\n",
       "      <td>S</td>\n",
       "    </tr>\n",
       "    <tr>\n",
       "      <th>1</th>\n",
       "      <td>2</td>\n",
       "      <td>1</td>\n",
       "      <td>1</td>\n",
       "      <td>Cumings, Mrs. John Bradley (Florence Briggs Th...</td>\n",
       "      <td>female</td>\n",
       "      <td>38.0</td>\n",
       "      <td>1</td>\n",
       "      <td>0</td>\n",
       "      <td>PC 17599</td>\n",
       "      <td>71.2833</td>\n",
       "      <td>C85</td>\n",
       "      <td>C</td>\n",
       "    </tr>\n",
       "    <tr>\n",
       "      <th>2</th>\n",
       "      <td>3</td>\n",
       "      <td>1</td>\n",
       "      <td>3</td>\n",
       "      <td>Heikkinen, Miss. Laina</td>\n",
       "      <td>female</td>\n",
       "      <td>26.0</td>\n",
       "      <td>0</td>\n",
       "      <td>0</td>\n",
       "      <td>STON/O2. 3101282</td>\n",
       "      <td>7.9250</td>\n",
       "      <td>NaN</td>\n",
       "      <td>S</td>\n",
       "    </tr>\n",
       "    <tr>\n",
       "      <th>3</th>\n",
       "      <td>4</td>\n",
       "      <td>1</td>\n",
       "      <td>1</td>\n",
       "      <td>Futrelle, Mrs. Jacques Heath (Lily May Peel)</td>\n",
       "      <td>female</td>\n",
       "      <td>35.0</td>\n",
       "      <td>1</td>\n",
       "      <td>0</td>\n",
       "      <td>113803</td>\n",
       "      <td>53.1000</td>\n",
       "      <td>C123</td>\n",
       "      <td>S</td>\n",
       "    </tr>\n",
       "    <tr>\n",
       "      <th>4</th>\n",
       "      <td>5</td>\n",
       "      <td>0</td>\n",
       "      <td>3</td>\n",
       "      <td>Allen, Mr. William Henry</td>\n",
       "      <td>male</td>\n",
       "      <td>35.0</td>\n",
       "      <td>0</td>\n",
       "      <td>0</td>\n",
       "      <td>373450</td>\n",
       "      <td>8.0500</td>\n",
       "      <td>NaN</td>\n",
       "      <td>S</td>\n",
       "    </tr>\n",
       "  </tbody>\n",
       "</table>\n",
       "</div>"
      ],
      "text/plain": [
       "   PassengerId  Survived  Pclass  \\\n",
       "0            1         0       3   \n",
       "1            2         1       1   \n",
       "2            3         1       3   \n",
       "3            4         1       1   \n",
       "4            5         0       3   \n",
       "\n",
       "                                                Name     Sex   Age  SibSp  \\\n",
       "0                            Braund, Mr. Owen Harris    male  22.0      1   \n",
       "1  Cumings, Mrs. John Bradley (Florence Briggs Th...  female  38.0      1   \n",
       "2                             Heikkinen, Miss. Laina  female  26.0      0   \n",
       "3       Futrelle, Mrs. Jacques Heath (Lily May Peel)  female  35.0      1   \n",
       "4                           Allen, Mr. William Henry    male  35.0      0   \n",
       "\n",
       "   Parch            Ticket     Fare Cabin Embarked  \n",
       "0      0         A/5 21171   7.2500   NaN        S  \n",
       "1      0          PC 17599  71.2833   C85        C  \n",
       "2      0  STON/O2. 3101282   7.9250   NaN        S  \n",
       "3      0            113803  53.1000  C123        S  \n",
       "4      0            373450   8.0500   NaN        S  "
      ]
     },
     "execution_count": 118,
     "metadata": {},
     "output_type": "execute_result"
    }
   ],
   "source": [
    "train_df.head()"
   ]
  },
  {
   "cell_type": "code",
   "execution_count": 119,
   "id": "152929e7",
   "metadata": {},
   "outputs": [
    {
     "data": {
      "text/html": [
       "<div>\n",
       "<style scoped>\n",
       "    .dataframe tbody tr th:only-of-type {\n",
       "        vertical-align: middle;\n",
       "    }\n",
       "\n",
       "    .dataframe tbody tr th {\n",
       "        vertical-align: top;\n",
       "    }\n",
       "\n",
       "    .dataframe thead th {\n",
       "        text-align: right;\n",
       "    }\n",
       "</style>\n",
       "<table border=\"1\" class=\"dataframe\">\n",
       "  <thead>\n",
       "    <tr style=\"text-align: right;\">\n",
       "      <th></th>\n",
       "      <th>PassengerId</th>\n",
       "      <th>Pclass</th>\n",
       "      <th>Name</th>\n",
       "      <th>Sex</th>\n",
       "      <th>Age</th>\n",
       "      <th>SibSp</th>\n",
       "      <th>Parch</th>\n",
       "      <th>Ticket</th>\n",
       "      <th>Fare</th>\n",
       "      <th>Cabin</th>\n",
       "      <th>Embarked</th>\n",
       "    </tr>\n",
       "  </thead>\n",
       "  <tbody>\n",
       "    <tr>\n",
       "      <th>0</th>\n",
       "      <td>892</td>\n",
       "      <td>3</td>\n",
       "      <td>Kelly, Mr. James</td>\n",
       "      <td>male</td>\n",
       "      <td>34.5</td>\n",
       "      <td>0</td>\n",
       "      <td>0</td>\n",
       "      <td>330911</td>\n",
       "      <td>7.8292</td>\n",
       "      <td>NaN</td>\n",
       "      <td>Q</td>\n",
       "    </tr>\n",
       "    <tr>\n",
       "      <th>1</th>\n",
       "      <td>893</td>\n",
       "      <td>3</td>\n",
       "      <td>Wilkes, Mrs. James (Ellen Needs)</td>\n",
       "      <td>female</td>\n",
       "      <td>47.0</td>\n",
       "      <td>1</td>\n",
       "      <td>0</td>\n",
       "      <td>363272</td>\n",
       "      <td>7.0000</td>\n",
       "      <td>NaN</td>\n",
       "      <td>S</td>\n",
       "    </tr>\n",
       "    <tr>\n",
       "      <th>2</th>\n",
       "      <td>894</td>\n",
       "      <td>2</td>\n",
       "      <td>Myles, Mr. Thomas Francis</td>\n",
       "      <td>male</td>\n",
       "      <td>62.0</td>\n",
       "      <td>0</td>\n",
       "      <td>0</td>\n",
       "      <td>240276</td>\n",
       "      <td>9.6875</td>\n",
       "      <td>NaN</td>\n",
       "      <td>Q</td>\n",
       "    </tr>\n",
       "    <tr>\n",
       "      <th>3</th>\n",
       "      <td>895</td>\n",
       "      <td>3</td>\n",
       "      <td>Wirz, Mr. Albert</td>\n",
       "      <td>male</td>\n",
       "      <td>27.0</td>\n",
       "      <td>0</td>\n",
       "      <td>0</td>\n",
       "      <td>315154</td>\n",
       "      <td>8.6625</td>\n",
       "      <td>NaN</td>\n",
       "      <td>S</td>\n",
       "    </tr>\n",
       "    <tr>\n",
       "      <th>4</th>\n",
       "      <td>896</td>\n",
       "      <td>3</td>\n",
       "      <td>Hirvonen, Mrs. Alexander (Helga E Lindqvist)</td>\n",
       "      <td>female</td>\n",
       "      <td>22.0</td>\n",
       "      <td>1</td>\n",
       "      <td>1</td>\n",
       "      <td>3101298</td>\n",
       "      <td>12.2875</td>\n",
       "      <td>NaN</td>\n",
       "      <td>S</td>\n",
       "    </tr>\n",
       "  </tbody>\n",
       "</table>\n",
       "</div>"
      ],
      "text/plain": [
       "   PassengerId  Pclass                                          Name     Sex  \\\n",
       "0          892       3                              Kelly, Mr. James    male   \n",
       "1          893       3              Wilkes, Mrs. James (Ellen Needs)  female   \n",
       "2          894       2                     Myles, Mr. Thomas Francis    male   \n",
       "3          895       3                              Wirz, Mr. Albert    male   \n",
       "4          896       3  Hirvonen, Mrs. Alexander (Helga E Lindqvist)  female   \n",
       "\n",
       "    Age  SibSp  Parch   Ticket     Fare Cabin Embarked  \n",
       "0  34.5      0      0   330911   7.8292   NaN        Q  \n",
       "1  47.0      1      0   363272   7.0000   NaN        S  \n",
       "2  62.0      0      0   240276   9.6875   NaN        Q  \n",
       "3  27.0      0      0   315154   8.6625   NaN        S  \n",
       "4  22.0      1      1  3101298  12.2875   NaN        S  "
      ]
     },
     "execution_count": 119,
     "metadata": {},
     "output_type": "execute_result"
    }
   ],
   "source": [
    "test_df.head()"
   ]
  },
  {
   "cell_type": "code",
   "execution_count": 120,
   "id": "9f16248d",
   "metadata": {},
   "outputs": [
    {
     "name": "stdout",
     "output_type": "stream",
     "text": [
      "<class 'pandas.core.frame.DataFrame'>\n",
      "RangeIndex: 891 entries, 0 to 890\n",
      "Data columns (total 12 columns):\n",
      " #   Column       Non-Null Count  Dtype  \n",
      "---  ------       --------------  -----  \n",
      " 0   PassengerId  891 non-null    int64  \n",
      " 1   Survived     891 non-null    int64  \n",
      " 2   Pclass       891 non-null    int64  \n",
      " 3   Name         891 non-null    object \n",
      " 4   Sex          891 non-null    object \n",
      " 5   Age          714 non-null    float64\n",
      " 6   SibSp        891 non-null    int64  \n",
      " 7   Parch        891 non-null    int64  \n",
      " 8   Ticket       891 non-null    object \n",
      " 9   Fare         891 non-null    float64\n",
      " 10  Cabin        204 non-null    object \n",
      " 11  Embarked     889 non-null    object \n",
      "dtypes: float64(2), int64(5), object(5)\n",
      "memory usage: 83.7+ KB\n"
     ]
    }
   ],
   "source": [
    "train_df.info()"
   ]
  },
  {
   "cell_type": "raw",
   "id": "cbd30aa6",
   "metadata": {},
   "source": [
    "float64(2) : Age, Fare                  \n",
    "int64(5)   : PassengerId, Survived, Pclass ,SibSp, Parch\n",
    "object(5)  : Name, Sex, Ticket, Cabin, Embarked     "
   ]
  },
  {
   "cell_type": "markdown",
   "id": "e01d420b",
   "metadata": {},
   "source": [
    "## Variable classes"
   ]
  },
  {
   "cell_type": "raw",
   "id": "11dbd2b0",
   "metadata": {},
   "source": [
    "categorical variables : Name, Sex, Ticket, Cabin, Embarked, Parch, SibSp, Pclass, Survived     \n",
    "numerical variables   : Age, Fare, PassengerId   "
   ]
  },
  {
   "cell_type": "raw",
   "id": "1e2efa29",
   "metadata": {},
   "source": [
    "*PassengerId: unique id number to each passenger\n",
    "*Survived: passenger survive(1) or died(0)\n",
    "*Pclass: passenger class\n",
    "*Name: name\n",
    "*Sex: gender of passenger\n",
    "*Age: age of passenger\n",
    "*SibSp: number of siblings/spouses\n",
    "*Parch: number of parents/children\n",
    "*Ticket: ticket number\n",
    "*Fare: amount of money spent on ticket\n",
    "*Cabin: cabin category\n",
    "*Embarked: port where passenger embarked (C = Cherbourg, Q = Queenstown, S = Southampton)"
   ]
  },
  {
   "cell_type": "raw",
   "id": "f4665162",
   "metadata": {},
   "source": [
    "Bağımlı değişkenimiz Survived, Buna bağlı olarak görselleştirme yapacağız."
   ]
  },
  {
   "cell_type": "code",
   "execution_count": 121,
   "id": "fba68f15",
   "metadata": {
    "scrolled": true
   },
   "outputs": [
    {
     "data": {
      "text/plain": [
       "PassengerId      0\n",
       "Survived         0\n",
       "Pclass           0\n",
       "Name             0\n",
       "Sex              0\n",
       "Age            177\n",
       "SibSp            0\n",
       "Parch            0\n",
       "Ticket           0\n",
       "Fare             0\n",
       "Cabin          687\n",
       "Embarked         2\n",
       "dtype: int64"
      ]
     },
     "execution_count": 121,
     "metadata": {},
     "output_type": "execute_result"
    }
   ],
   "source": [
    "train_df.isnull().sum()"
   ]
  },
  {
   "cell_type": "code",
   "execution_count": 122,
   "id": "4828ec12",
   "metadata": {},
   "outputs": [
    {
     "data": {
      "text/plain": [
       "891"
      ]
     },
     "execution_count": 122,
     "metadata": {},
     "output_type": "execute_result"
    }
   ],
   "source": [
    "train_df.shape[0]"
   ]
  },
  {
   "cell_type": "raw",
   "id": "06e7e6ce",
   "metadata": {},
   "source": [
    "Cabin değişkeni göze çok çarpıyor ve bu değişkeni datamızdan çıkarıyoruz(test,train)"
   ]
  },
  {
   "cell_type": "raw",
   "id": "6fddc727",
   "metadata": {},
   "source": [
    "Age değişkenine feature analysis yaptıktan sonra boş değerleri dolduracağız"
   ]
  },
  {
   "cell_type": "code",
   "execution_count": 123,
   "id": "95c1680a",
   "metadata": {},
   "outputs": [],
   "source": [
    "train_df.drop([\"Cabin\"],axis=1,inplace=True)"
   ]
  },
  {
   "cell_type": "code",
   "execution_count": 124,
   "id": "897fc896",
   "metadata": {},
   "outputs": [],
   "source": [
    "test_df.drop([\"Cabin\"],axis=1,inplace=True)"
   ]
  },
  {
   "cell_type": "markdown",
   "id": "abd18693",
   "metadata": {},
   "source": [
    "## Visualizing"
   ]
  },
  {
   "cell_type": "markdown",
   "id": "5f35e8c7",
   "metadata": {},
   "source": [
    "## Temel Veri Analizi "
   ]
  },
  {
   "cell_type": "raw",
   "id": "efe3d491",
   "metadata": {},
   "source": [
    "Tek Değişkenli analiz (categorical variables):"
   ]
  },
  {
   "cell_type": "code",
   "execution_count": 125,
   "id": "75ea4329",
   "metadata": {},
   "outputs": [],
   "source": [
    "variable = \"Sex\"\n",
    "var = train_df[variable]\n",
    "var_value_count = var.value_counts()"
   ]
  },
  {
   "cell_type": "code",
   "execution_count": 126,
   "id": "40becc98",
   "metadata": {},
   "outputs": [
    {
     "data": {
      "text/plain": [
       "Sex\n",
       "male      577\n",
       "female    314\n",
       "Name: count, dtype: int64"
      ]
     },
     "execution_count": 126,
     "metadata": {},
     "output_type": "execute_result"
    }
   ],
   "source": [
    "var_value_count"
   ]
  },
  {
   "cell_type": "code",
   "execution_count": 127,
   "id": "aabca5b1",
   "metadata": {},
   "outputs": [
    {
     "data": {
      "text/plain": [
       "array(['male', 'female'], dtype=object)"
      ]
     },
     "execution_count": 127,
     "metadata": {},
     "output_type": "execute_result"
    }
   ],
   "source": [
    "var.unique()"
   ]
  },
  {
   "cell_type": "markdown",
   "id": "d58e69b8",
   "metadata": {},
   "source": [
    "### Çıkarım yapıyoruz: İlk gözlemde görselleştirme için değişken değer türleri fazla olmayan değişkenler seçilip görselleştirilmeli(thresh = 10)"
   ]
  },
  {
   "cell_type": "code",
   "execution_count": 128,
   "id": "cda487cb",
   "metadata": {},
   "outputs": [],
   "source": [
    "#kategorik deişkenlerin görselleştirilmesinde bar yöntemi etkilidir.\n",
    "import matplotlib.pyplot as plt\n",
    "def bar_plot(variable):\n",
    "    var = train_df[variable]\n",
    "    var_value_count = var.value_counts()\n",
    "    \n",
    "    plt.figure(figsize=(9,3))\n",
    "    plt.bar(var_value_count.index,var_value_count)\n",
    "    plt.xticks(var_value_count.index, var_value_count.index.values)   \n",
    "    plt.title(variable)\n",
    "    plt.show()\n",
    "    print(\"{}: \\n {}\".format(variable,var_value_count))"
   ]
  },
  {
   "cell_type": "code",
   "execution_count": 129,
   "id": "612d1a84",
   "metadata": {},
   "outputs": [],
   "source": [
    "category = []\n",
    "for i in train_df.columns:\n",
    "    var_count = train_df[i].nunique()\n",
    "    if var_count< 10:\n",
    "        category.append(i)"
   ]
  },
  {
   "cell_type": "code",
   "execution_count": 130,
   "id": "ee161a6f",
   "metadata": {},
   "outputs": [
    {
     "data": {
      "text/plain": [
       "['Survived', 'Pclass', 'Sex', 'SibSp', 'Parch', 'Embarked']"
      ]
     },
     "execution_count": 130,
     "metadata": {},
     "output_type": "execute_result"
    }
   ],
   "source": [
    "category"
   ]
  },
  {
   "cell_type": "code",
   "execution_count": 131,
   "id": "5ab90313",
   "metadata": {},
   "outputs": [
    {
     "data": {
      "image/png": "[encoded data removed]",
      "text/plain": [
       "<Figure size 900x300 with 1 Axes>"
      ]
     },
     "metadata": {},
     "output_type": "display_data"
    },
    {
     "name": "stdout",
     "output_type": "stream",
     "text": [
      "Survived: \n",
      " Survived\n",
      "0    549\n",
      "1    342\n",
      "Name: count, dtype: int64\n"
     ]
    },
    {
     "data": {
      "image/png": "[encoded data removed]",
      "text/plain": [
       "<Figure size 900x300 with 1 Axes>"
      ]
     },
     "metadata": {},
     "output_type": "display_data"
    },
    {
     "name": "stdout",
     "output_type": "stream",
     "text": [
      "Pclass: \n",
      " Pclass\n",
      "3    491\n",
      "1    216\n",
      "2    184\n",
      "Name: count, dtype: int64\n"
     ]
    },
    {
     "data": {
      "image/png": "[encoded data removed]",
      "text/plain": [
       "<Figure size 900x300 with 1 Axes>"
      ]
     },
     "metadata": {},
     "output_type": "display_data"
    },
    {
     "name": "stdout",
     "output_type": "stream",
     "text": [
      "Sex: \n",
      " Sex\n",
      "male      577\n",
      "female    314\n",
      "Name: count, dtype: int64\n"
     ]
    },
    {
     "data": {
      "image/png": "[encoded data removed]",
      "text/plain": [
       "<Figure size 900x300 with 1 Axes>"
      ]
     },
     "metadata": {},
     "output_type": "display_data"
    },
    {
     "name": "stdout",
     "output_type": "stream",
     "text": [
      "SibSp: \n",
      " SibSp\n",
      "0    608\n",
      "1    209\n",
      "2     28\n",
      "4     18\n",
      "3     16\n",
      "8      7\n",
      "5      5\n",
      "Name: count, dtype: int64\n"
     ]
    },
    {
     "data": {
      "image/png": "[encoded data removed]",
      "text/plain": [
       "<Figure size 900x300 with 1 Axes>"
      ]
     },
     "metadata": {},
     "output_type": "display_data"
    },
    {
     "name": "stdout",
     "output_type": "stream",
     "text": [
      "Parch: \n",
      " Parch\n",
      "0    678\n",
      "1    118\n",
      "2     80\n",
      "5      5\n",
      "3      5\n",
      "4      4\n",
      "6      1\n",
      "Name: count, dtype: int64\n"
     ]
    },
    {
     "data": {
      "image/png": "[encoded data removed]",
      "text/plain": [
       "<Figure size 900x300 with 1 Axes>"
      ]
     },
     "metadata": {},
     "output_type": "display_data"
    },
    {
     "name": "stdout",
     "output_type": "stream",
     "text": [
      "Embarked: \n",
      " Embarked\n",
      "S    644\n",
      "C    168\n",
      "Q     77\n",
      "Name: count, dtype: int64\n"
     ]
    }
   ],
   "source": [
    "for c in category:\n",
    "    bar_plot(c)\n"
   ]
  },
  {
   "cell_type": "raw",
   "id": "49f9784a",
   "metadata": {},
   "source": [
    "Survived : 549 ölü, 342 hayatta kalan yolcu var. bu grafiğe bakıldığında dengeli bir dağılım yok.Yani istenmeyen bir durum.\n",
    "Pclass: 3 değişkenden oluşup normal bir dağılıma sahip olduğu görülüyor.\n",
    "Sex : Survived değişkeniyle yüksek korelasyona sahip gibi . Erkeklerin kadınlardan fazla olduğu gözüküyor.\n",
    "SibSp : std yüksek gözüküyor ve ilk iki değişken haricinde diğer değişkenlerde değer artışı görünmüyor. Burada ilk iki değişkeni ve sonraki değişkenleri gruplayarak yeni bir yapı oluşturabiliriz.\n",
    "Parch : SibSp ile yüksek korelasyon gözüküyor. Bu iki değişken arasında çıkarımlar söz konusu olacaktır.\n",
    "Embarked : Gemiye binilen yerlerden bahsediyor. S konumundan binenlerin sayısı daha fazla. Binilen konum ile alınan bilet arasında bağlantı olabilir."
   ]
  },
  {
   "cell_type": "raw",
   "id": "3e88aad5",
   "metadata": {},
   "source": [
    "Numeric Variables : "
   ]
  },
  {
   "cell_type": "code",
   "execution_count": 132,
   "id": "60eb73f0",
   "metadata": {},
   "outputs": [],
   "source": [
    "numeric = [\"Fare\",\"Age\",\"PassengerId\"]"
   ]
  },
  {
   "cell_type": "code",
   "execution_count": 133,
   "id": "98de4614",
   "metadata": {},
   "outputs": [],
   "source": [
    "def plt_hist(variable):\n",
    "    var = train_df[variable]\n",
    "    plt.figure(figsize=(9,3))\n",
    "    plt.hist(var,bins=50)\n",
    "    plt.xlabel(variable)\n",
    "    plt.ylabel(\"Frequency\")\n",
    "    plt.title(\"{} distribution with hist\".format(variable))\n",
    "    plt.show()"
   ]
  },
  {
   "cell_type": "code",
   "execution_count": 134,
   "id": "4681bd71",
   "metadata": {},
   "outputs": [
    {
     "data": {
      "image/png": "[encoded data removed]",
      "text/plain": [
       "<Figure size 900x300 with 1 Axes>"
      ]
     },
     "metadata": {},
     "output_type": "display_data"
    },
    {
     "data": {
      "image/png": "[encoded data removed]",
      "text/plain": [
       "<Figure size 900x300 with 1 Axes>"
      ]
     },
     "metadata": {},
     "output_type": "display_data"
    },
    {
     "data": {
      "image/png": "[encoded data removed]",
      "text/plain": [
       "<Figure size 900x300 with 1 Axes>"
      ]
     },
     "metadata": {},
     "output_type": "display_data"
    }
   ],
   "source": [
    "for i in numeric:\n",
    "    plt_hist(i)"
   ]
  },
  {
   "cell_type": "raw",
   "id": "6dba207c",
   "metadata": {},
   "source": [
    "Age : genellikle 20 ila 30 yaş arasında yoğunluk mevcut\n",
    "Fare : Düşük bilet fiyatı oldukça çok alınmış. Bilet fiyatının Pclass ile alakası olabilir.\n",
    "PassengerId : index işlevi görüyor silinebilir."
   ]
  },
  {
   "cell_type": "code",
   "execution_count": 135,
   "id": "afdf3277",
   "metadata": {},
   "outputs": [],
   "source": [
    "train_df.drop([\"PassengerId\"],axis=1, inplace=True)"
   ]
  },
  {
   "cell_type": "code",
   "execution_count": 136,
   "id": "1861754f",
   "metadata": {},
   "outputs": [],
   "source": [
    "test_df.drop([\"PassengerId\"],axis=1, inplace=True)"
   ]
  },
  {
   "cell_type": "raw",
   "id": "7fe02a68",
   "metadata": {},
   "source": [
    "Değişkenleri biraz daha iyi tanıdık . Şimdi yapmamız gereken ise çok değişkenli görselleştirme. Bunun önemi, değişkenlerin arasındaki bağlantıları görebiliyoruz ve yorum yapmaya daha uygun oluruz."
   ]
  },
  {
   "cell_type": "raw",
   "id": "10e6eabe",
   "metadata": {},
   "source": [
    "Bağımlı değişkenle kıyaslıyarak yola devam edeceğiz."
   ]
  },
  {
   "cell_type": "markdown",
   "id": "16b371da",
   "metadata": {},
   "source": [
    "## Basic Data Analysis\n"
   ]
  },
  {
   "cell_type": "raw",
   "id": "14ecd8e0",
   "metadata": {},
   "source": [
    "Pclass - Survived\n",
    "Sex - Survived\n",
    "SibSp - Survived\n",
    "Parch - Survived"
   ]
  },
  {
   "cell_type": "code",
   "execution_count": 137,
   "id": "3c70cf47",
   "metadata": {},
   "outputs": [
    {
     "data": {
      "text/html": [
       "<div>\n",
       "<style scoped>\n",
       "    .dataframe tbody tr th:only-of-type {\n",
       "        vertical-align: middle;\n",
       "    }\n",
       "\n",
       "    .dataframe tbody tr th {\n",
       "        vertical-align: top;\n",
       "    }\n",
       "\n",
       "    .dataframe thead th {\n",
       "        text-align: right;\n",
       "    }\n",
       "</style>\n",
       "<table border=\"1\" class=\"dataframe\">\n",
       "  <thead>\n",
       "    <tr style=\"text-align: right;\">\n",
       "      <th></th>\n",
       "      <th>Pclass</th>\n",
       "      <th>Survived</th>\n",
       "    </tr>\n",
       "  </thead>\n",
       "  <tbody>\n",
       "    <tr>\n",
       "      <th>0</th>\n",
       "      <td>1</td>\n",
       "      <td>0.629630</td>\n",
       "    </tr>\n",
       "    <tr>\n",
       "      <th>1</th>\n",
       "      <td>2</td>\n",
       "      <td>0.472826</td>\n",
       "    </tr>\n",
       "    <tr>\n",
       "      <th>2</th>\n",
       "      <td>3</td>\n",
       "      <td>0.242363</td>\n",
       "    </tr>\n",
       "  </tbody>\n",
       "</table>\n",
       "</div>"
      ],
      "text/plain": [
       "   Pclass  Survived\n",
       "0       1  0.629630\n",
       "1       2  0.472826\n",
       "2       3  0.242363"
      ]
     },
     "execution_count": 137,
     "metadata": {},
     "output_type": "execute_result"
    }
   ],
   "source": [
    "train_df[[\"Pclass\",\"Survived\"]].groupby([\"Pclass\"],as_index=False).mean().sort_values(by=\"Survived\",ascending=False)"
   ]
  },
  {
   "cell_type": "code",
   "execution_count": 138,
   "id": "5723dfc6",
   "metadata": {},
   "outputs": [
    {
     "data": {
      "text/html": [
       "<div>\n",
       "<style scoped>\n",
       "    .dataframe tbody tr th:only-of-type {\n",
       "        vertical-align: middle;\n",
       "    }\n",
       "\n",
       "    .dataframe tbody tr th {\n",
       "        vertical-align: top;\n",
       "    }\n",
       "\n",
       "    .dataframe thead th {\n",
       "        text-align: right;\n",
       "    }\n",
       "</style>\n",
       "<table border=\"1\" class=\"dataframe\">\n",
       "  <thead>\n",
       "    <tr style=\"text-align: right;\">\n",
       "      <th></th>\n",
       "      <th>Sex</th>\n",
       "      <th>Survived</th>\n",
       "    </tr>\n",
       "  </thead>\n",
       "  <tbody>\n",
       "    <tr>\n",
       "      <th>0</th>\n",
       "      <td>female</td>\n",
       "      <td>0.742038</td>\n",
       "    </tr>\n",
       "    <tr>\n",
       "      <th>1</th>\n",
       "      <td>male</td>\n",
       "      <td>0.188908</td>\n",
       "    </tr>\n",
       "  </tbody>\n",
       "</table>\n",
       "</div>"
      ],
      "text/plain": [
       "      Sex  Survived\n",
       "0  female  0.742038\n",
       "1    male  0.188908"
      ]
     },
     "execution_count": 138,
     "metadata": {},
     "output_type": "execute_result"
    }
   ],
   "source": [
    "train_df[[\"Sex\",\"Survived\"]].groupby([\"Sex\"],as_index=False).mean().sort_values(by=\"Survived\",ascending=False)"
   ]
  },
  {
   "cell_type": "code",
   "execution_count": 139,
   "id": "6f38e899",
   "metadata": {},
   "outputs": [
    {
     "data": {
      "text/html": [
       "<div>\n",
       "<style scoped>\n",
       "    .dataframe tbody tr th:only-of-type {\n",
       "        vertical-align: middle;\n",
       "    }\n",
       "\n",
       "    .dataframe tbody tr th {\n",
       "        vertical-align: top;\n",
       "    }\n",
       "\n",
       "    .dataframe thead th {\n",
       "        text-align: right;\n",
       "    }\n",
       "</style>\n",
       "<table border=\"1\" class=\"dataframe\">\n",
       "  <thead>\n",
       "    <tr style=\"text-align: right;\">\n",
       "      <th></th>\n",
       "      <th>SibSp</th>\n",
       "      <th>Survived</th>\n",
       "    </tr>\n",
       "  </thead>\n",
       "  <tbody>\n",
       "    <tr>\n",
       "      <th>1</th>\n",
       "      <td>1</td>\n",
       "      <td>0.535885</td>\n",
       "    </tr>\n",
       "    <tr>\n",
       "      <th>2</th>\n",
       "      <td>2</td>\n",
       "      <td>0.464286</td>\n",
       "    </tr>\n",
       "    <tr>\n",
       "      <th>0</th>\n",
       "      <td>0</td>\n",
       "      <td>0.345395</td>\n",
       "    </tr>\n",
       "    <tr>\n",
       "      <th>3</th>\n",
       "      <td>3</td>\n",
       "      <td>0.250000</td>\n",
       "    </tr>\n",
       "    <tr>\n",
       "      <th>4</th>\n",
       "      <td>4</td>\n",
       "      <td>0.166667</td>\n",
       "    </tr>\n",
       "    <tr>\n",
       "      <th>5</th>\n",
       "      <td>5</td>\n",
       "      <td>0.000000</td>\n",
       "    </tr>\n",
       "    <tr>\n",
       "      <th>6</th>\n",
       "      <td>8</td>\n",
       "      <td>0.000000</td>\n",
       "    </tr>\n",
       "  </tbody>\n",
       "</table>\n",
       "</div>"
      ],
      "text/plain": [
       "   SibSp  Survived\n",
       "1      1  0.535885\n",
       "2      2  0.464286\n",
       "0      0  0.345395\n",
       "3      3  0.250000\n",
       "4      4  0.166667\n",
       "5      5  0.000000\n",
       "6      8  0.000000"
      ]
     },
     "execution_count": 139,
     "metadata": {},
     "output_type": "execute_result"
    }
   ],
   "source": [
    "train_df[[\"SibSp\",\"Survived\"]].groupby([\"SibSp\"],as_index=False).mean().sort_values(by=\"Survived\",ascending=False)"
   ]
  },
  {
   "cell_type": "code",
   "execution_count": 140,
   "id": "098a5005",
   "metadata": {},
   "outputs": [
    {
     "data": {
      "text/html": [
       "<div>\n",
       "<style scoped>\n",
       "    .dataframe tbody tr th:only-of-type {\n",
       "        vertical-align: middle;\n",
       "    }\n",
       "\n",
       "    .dataframe tbody tr th {\n",
       "        vertical-align: top;\n",
       "    }\n",
       "\n",
       "    .dataframe thead th {\n",
       "        text-align: right;\n",
       "    }\n",
       "</style>\n",
       "<table border=\"1\" class=\"dataframe\">\n",
       "  <thead>\n",
       "    <tr style=\"text-align: right;\">\n",
       "      <th></th>\n",
       "      <th>Parch</th>\n",
       "      <th>Survived</th>\n",
       "    </tr>\n",
       "  </thead>\n",
       "  <tbody>\n",
       "    <tr>\n",
       "      <th>3</th>\n",
       "      <td>3</td>\n",
       "      <td>0.600000</td>\n",
       "    </tr>\n",
       "    <tr>\n",
       "      <th>1</th>\n",
       "      <td>1</td>\n",
       "      <td>0.550847</td>\n",
       "    </tr>\n",
       "    <tr>\n",
       "      <th>2</th>\n",
       "      <td>2</td>\n",
       "      <td>0.500000</td>\n",
       "    </tr>\n",
       "    <tr>\n",
       "      <th>0</th>\n",
       "      <td>0</td>\n",
       "      <td>0.343658</td>\n",
       "    </tr>\n",
       "    <tr>\n",
       "      <th>5</th>\n",
       "      <td>5</td>\n",
       "      <td>0.200000</td>\n",
       "    </tr>\n",
       "    <tr>\n",
       "      <th>4</th>\n",
       "      <td>4</td>\n",
       "      <td>0.000000</td>\n",
       "    </tr>\n",
       "    <tr>\n",
       "      <th>6</th>\n",
       "      <td>6</td>\n",
       "      <td>0.000000</td>\n",
       "    </tr>\n",
       "  </tbody>\n",
       "</table>\n",
       "</div>"
      ],
      "text/plain": [
       "   Parch  Survived\n",
       "3      3  0.600000\n",
       "1      1  0.550847\n",
       "2      2  0.500000\n",
       "0      0  0.343658\n",
       "5      5  0.200000\n",
       "4      4  0.000000\n",
       "6      6  0.000000"
      ]
     },
     "execution_count": 140,
     "metadata": {},
     "output_type": "execute_result"
    }
   ],
   "source": [
    "train_df[[\"Parch\",\"Survived\"]].groupby([\"Parch\"],as_index=False).mean().sort_values(by=\"Survived\",ascending=False)"
   ]
  },
  {
   "cell_type": "code",
   "execution_count": 141,
   "id": "47f06a45",
   "metadata": {},
   "outputs": [],
   "source": [
    "from collections import Counter"
   ]
  },
  {
   "cell_type": "markdown",
   "id": "c2cccad6",
   "metadata": {},
   "source": [
    "### Aykırı Değer Tespiti"
   ]
  },
  {
   "cell_type": "code",
   "execution_count": 142,
   "id": "ca9946fa",
   "metadata": {},
   "outputs": [],
   "source": [
    "def detect_outliers(df,features):\n",
    "    outlier_indices = []\n",
    "    \n",
    "    for c in features:\n",
    "        # 1st quartile\n",
    "        Q1 = np.percentile(df[c],25)\n",
    "        # 3rd quartile\n",
    "        Q3 = np.percentile(df[c],75)\n",
    "        # IQR\n",
    "        IQR = Q3 - Q1\n",
    "        # Outlier step\n",
    "        outlier_step = IQR * 1.5\n",
    "        # detect outlier and their indeces\n",
    "        outlier_list_col = df[(df[c] < Q1 - outlier_step) | (df[c] > Q3 + outlier_step)].index\n",
    "        # store indeces\n",
    "        outlier_indices.extend(outlier_list_col)\n",
    "    \n",
    "    outlier_indices = Counter(outlier_indices)\n",
    "    multiple_outliers = list(i for i, v in outlier_indices.items() if v > 2)\n",
    "    \n",
    "    return multiple_outliers"
   ]
  },
  {
   "cell_type": "code",
   "execution_count": 143,
   "id": "14198ba4",
   "metadata": {},
   "outputs": [],
   "source": [
    "train_df.drop(detect_outliers(train_df,[\"Age\",\"SibSp\",\"Parch\",\"Fare\"]),axis=0,inplace=True)"
   ]
  },
  {
   "cell_type": "code",
   "execution_count": 144,
   "id": "d40c379e",
   "metadata": {},
   "outputs": [
    {
     "data": {
      "text/html": [
       "<div>\n",
       "<style scoped>\n",
       "    .dataframe tbody tr th:only-of-type {\n",
       "        vertical-align: middle;\n",
       "    }\n",
       "\n",
       "    .dataframe tbody tr th {\n",
       "        vertical-align: top;\n",
       "    }\n",
       "\n",
       "    .dataframe thead th {\n",
       "        text-align: right;\n",
       "    }\n",
       "</style>\n",
       "<table border=\"1\" class=\"dataframe\">\n",
       "  <thead>\n",
       "    <tr style=\"text-align: right;\">\n",
       "      <th></th>\n",
       "      <th>Survived</th>\n",
       "      <th>Pclass</th>\n",
       "      <th>Name</th>\n",
       "      <th>Sex</th>\n",
       "      <th>Age</th>\n",
       "      <th>SibSp</th>\n",
       "      <th>Parch</th>\n",
       "      <th>Ticket</th>\n",
       "      <th>Fare</th>\n",
       "      <th>Embarked</th>\n",
       "    </tr>\n",
       "  </thead>\n",
       "  <tbody>\n",
       "  </tbody>\n",
       "</table>\n",
       "</div>"
      ],
      "text/plain": [
       "Empty DataFrame\n",
       "Columns: [Survived, Pclass, Name, Sex, Age, SibSp, Parch, Ticket, Fare, Embarked]\n",
       "Index: []"
      ]
     },
     "execution_count": 144,
     "metadata": {},
     "output_type": "execute_result"
    }
   ],
   "source": [
    "train_df.loc[detect_outliers(train_df,[\"Age\",\"SibSp\",\"Parch\",\"Fare\"])]"
   ]
  },
  {
   "cell_type": "raw",
   "id": "3cdf7823",
   "metadata": {},
   "source": [
    "Silindi aykırı değerler"
   ]
  },
  {
   "cell_type": "markdown",
   "id": "60c395d8",
   "metadata": {},
   "source": [
    "### Boş Değer Tespiti"
   ]
  },
  {
   "cell_type": "raw",
   "id": "453cf03e",
   "metadata": {},
   "source": [
    "Boş değerler train ve test veri setleri bir bütün olarak işlem yapılmalıdır. Bunun nedeni, Test veri setininde test aşamasında modele gireceği için boş değerler hata çıkartacaktır. Bu yüzden beraber işlem yapmamız gerekir boş değerler için"
   ]
  },
  {
   "cell_type": "code",
   "execution_count": 145,
   "id": "34002d5e",
   "metadata": {},
   "outputs": [],
   "source": [
    "train_len = train_df.shape[0]\n",
    "data = pd.concat([train_df,test_df],axis=0).reset_index(drop=True)"
   ]
  },
  {
   "cell_type": "code",
   "execution_count": 146,
   "id": "70b51156",
   "metadata": {},
   "outputs": [
    {
     "data": {
      "text/html": [
       "<div>\n",
       "<style scoped>\n",
       "    .dataframe tbody tr th:only-of-type {\n",
       "        vertical-align: middle;\n",
       "    }\n",
       "\n",
       "    .dataframe tbody tr th {\n",
       "        vertical-align: top;\n",
       "    }\n",
       "\n",
       "    .dataframe thead th {\n",
       "        text-align: right;\n",
       "    }\n",
       "</style>\n",
       "<table border=\"1\" class=\"dataframe\">\n",
       "  <thead>\n",
       "    <tr style=\"text-align: right;\">\n",
       "      <th></th>\n",
       "      <th>Survived</th>\n",
       "      <th>Pclass</th>\n",
       "      <th>Name</th>\n",
       "      <th>Sex</th>\n",
       "      <th>Age</th>\n",
       "      <th>SibSp</th>\n",
       "      <th>Parch</th>\n",
       "      <th>Ticket</th>\n",
       "      <th>Fare</th>\n",
       "      <th>Embarked</th>\n",
       "    </tr>\n",
       "  </thead>\n",
       "  <tbody>\n",
       "    <tr>\n",
       "      <th>1294</th>\n",
       "      <td>NaN</td>\n",
       "      <td>3</td>\n",
       "      <td>Spector, Mr. Woolf</td>\n",
       "      <td>male</td>\n",
       "      <td>NaN</td>\n",
       "      <td>0</td>\n",
       "      <td>0</td>\n",
       "      <td>A.5. 3236</td>\n",
       "      <td>8.0500</td>\n",
       "      <td>S</td>\n",
       "    </tr>\n",
       "    <tr>\n",
       "      <th>1295</th>\n",
       "      <td>NaN</td>\n",
       "      <td>1</td>\n",
       "      <td>Oliva y Ocana, Dona. Fermina</td>\n",
       "      <td>female</td>\n",
       "      <td>39.0</td>\n",
       "      <td>0</td>\n",
       "      <td>0</td>\n",
       "      <td>PC 17758</td>\n",
       "      <td>108.9000</td>\n",
       "      <td>C</td>\n",
       "    </tr>\n",
       "    <tr>\n",
       "      <th>1296</th>\n",
       "      <td>NaN</td>\n",
       "      <td>3</td>\n",
       "      <td>Saether, Mr. Simon Sivertsen</td>\n",
       "      <td>male</td>\n",
       "      <td>38.5</td>\n",
       "      <td>0</td>\n",
       "      <td>0</td>\n",
       "      <td>SOTON/O.Q. 3101262</td>\n",
       "      <td>7.2500</td>\n",
       "      <td>S</td>\n",
       "    </tr>\n",
       "    <tr>\n",
       "      <th>1297</th>\n",
       "      <td>NaN</td>\n",
       "      <td>3</td>\n",
       "      <td>Ware, Mr. Frederick</td>\n",
       "      <td>male</td>\n",
       "      <td>NaN</td>\n",
       "      <td>0</td>\n",
       "      <td>0</td>\n",
       "      <td>359309</td>\n",
       "      <td>8.0500</td>\n",
       "      <td>S</td>\n",
       "    </tr>\n",
       "    <tr>\n",
       "      <th>1298</th>\n",
       "      <td>NaN</td>\n",
       "      <td>3</td>\n",
       "      <td>Peter, Master. Michael J</td>\n",
       "      <td>male</td>\n",
       "      <td>NaN</td>\n",
       "      <td>1</td>\n",
       "      <td>1</td>\n",
       "      <td>2668</td>\n",
       "      <td>22.3583</td>\n",
       "      <td>C</td>\n",
       "    </tr>\n",
       "  </tbody>\n",
       "</table>\n",
       "</div>"
      ],
      "text/plain": [
       "      Survived  Pclass                          Name     Sex   Age  SibSp  \\\n",
       "1294       NaN       3            Spector, Mr. Woolf    male   NaN      0   \n",
       "1295       NaN       1  Oliva y Ocana, Dona. Fermina  female  39.0      0   \n",
       "1296       NaN       3  Saether, Mr. Simon Sivertsen    male  38.5      0   \n",
       "1297       NaN       3           Ware, Mr. Frederick    male   NaN      0   \n",
       "1298       NaN       3      Peter, Master. Michael J    male   NaN      1   \n",
       "\n",
       "      Parch              Ticket      Fare Embarked  \n",
       "1294      0           A.5. 3236    8.0500        S  \n",
       "1295      0            PC 17758  108.9000        C  \n",
       "1296      0  SOTON/O.Q. 3101262    7.2500        S  \n",
       "1297      0              359309    8.0500        S  \n",
       "1298      1                2668   22.3583        C  "
      ]
     },
     "execution_count": 146,
     "metadata": {},
     "output_type": "execute_result"
    }
   ],
   "source": [
    "data.tail()"
   ]
  },
  {
   "cell_type": "raw",
   "id": "0d099d21",
   "metadata": {},
   "source": [
    "Test verisinde bağımlı değişken(survived) değerleri olmadığı için null olması normal ."
   ]
  },
  {
   "cell_type": "code",
   "execution_count": 147,
   "id": "9ce10069",
   "metadata": {},
   "outputs": [
    {
     "data": {
      "text/plain": [
       "Survived    418\n",
       "Pclass        0\n",
       "Name          0\n",
       "Sex           0\n",
       "Age         256\n",
       "SibSp         0\n",
       "Parch         0\n",
       "Ticket        0\n",
       "Fare          1\n",
       "Embarked      2\n",
       "dtype: int64"
      ]
     },
     "execution_count": 147,
     "metadata": {},
     "output_type": "execute_result"
    }
   ],
   "source": [
    "data.isnull().sum()"
   ]
  },
  {
   "cell_type": "raw",
   "id": "a2532f16",
   "metadata": {},
   "source": [
    "Age değişkenini doldurmak istiyeceğiz ancak bu değerleri analiz edip doldurmalıyız. Cünkü bizim görebileceğimiz miktarda değil.\n",
    "Fare ve Embarked değişkenine bakacağız ve dolduracağız."
   ]
  },
  {
   "cell_type": "code",
   "execution_count": 148,
   "id": "b7c1f807",
   "metadata": {},
   "outputs": [
    {
     "data": {
      "text/html": [
       "<div>\n",
       "<style scoped>\n",
       "    .dataframe tbody tr th:only-of-type {\n",
       "        vertical-align: middle;\n",
       "    }\n",
       "\n",
       "    .dataframe tbody tr th {\n",
       "        vertical-align: top;\n",
       "    }\n",
       "\n",
       "    .dataframe thead th {\n",
       "        text-align: right;\n",
       "    }\n",
       "</style>\n",
       "<table border=\"1\" class=\"dataframe\">\n",
       "  <thead>\n",
       "    <tr style=\"text-align: right;\">\n",
       "      <th></th>\n",
       "      <th>Survived</th>\n",
       "      <th>Pclass</th>\n",
       "      <th>Name</th>\n",
       "      <th>Sex</th>\n",
       "      <th>Age</th>\n",
       "      <th>SibSp</th>\n",
       "      <th>Parch</th>\n",
       "      <th>Ticket</th>\n",
       "      <th>Fare</th>\n",
       "      <th>Embarked</th>\n",
       "    </tr>\n",
       "  </thead>\n",
       "  <tbody>\n",
       "    <tr>\n",
       "      <th>1033</th>\n",
       "      <td>NaN</td>\n",
       "      <td>3</td>\n",
       "      <td>Storey, Mr. Thomas</td>\n",
       "      <td>male</td>\n",
       "      <td>60.5</td>\n",
       "      <td>0</td>\n",
       "      <td>0</td>\n",
       "      <td>3701</td>\n",
       "      <td>NaN</td>\n",
       "      <td>S</td>\n",
       "    </tr>\n",
       "  </tbody>\n",
       "</table>\n",
       "</div>"
      ],
      "text/plain": [
       "      Survived  Pclass                Name   Sex   Age  SibSp  Parch Ticket  \\\n",
       "1033       NaN       3  Storey, Mr. Thomas  male  60.5      0      0   3701   \n",
       "\n",
       "      Fare Embarked  \n",
       "1033   NaN        S  "
      ]
     },
     "execution_count": 148,
     "metadata": {},
     "output_type": "execute_result"
    }
   ],
   "source": [
    "data[data.Fare.isnull()]"
   ]
  },
  {
   "cell_type": "code",
   "execution_count": 149,
   "id": "8610a1a0",
   "metadata": {},
   "outputs": [
    {
     "data": {
      "text/plain": [
       "<Axes: title={'center': 'Fare'}, xlabel='Pclass'>"
      ]
     },
     "execution_count": 149,
     "metadata": {},
     "output_type": "execute_result"
    },
    {
     "data": {
      "image/png": "[encoded data removed]",
      "text/plain": [
       "<Figure size 640x480 with 1 Axes>"
      ]
     },
     "metadata": {},
     "output_type": "display_data"
    },
    {
     "data": {
      "image/png": "[encoded data removed]",
      "text/plain": [
       "<Figure size 640x480 with 1 Axes>"
      ]
     },
     "metadata": {},
     "output_type": "display_data"
    }
   ],
   "source": [
    "#Fare değerini etkilicek önemli değişkenlerden Pclass ve Embarked var.\n",
    "data.boxplot(column=\"Fare\",by = \"Embarked\")\n",
    "data.boxplot(column=\"Fare\",by= \"Pclass\")"
   ]
  },
  {
   "cell_type": "raw",
   "id": "fd786a53",
   "metadata": {},
   "source": [
    "Pclass 3 ve Embarked S değerleri doğrultulu gözüküyor şimdi bu değerleri barındıran kısımların ortalamasını alıp atıyacağım."
   ]
  },
  {
   "cell_type": "code",
   "execution_count": 150,
   "id": "ae6ad567",
   "metadata": {},
   "outputs": [
    {
     "data": {
      "text/plain": [
       "12.741219971469329"
      ]
     },
     "execution_count": 150,
     "metadata": {},
     "output_type": "execute_result"
    }
   ],
   "source": [
    "data[data[\"Pclass\"] == 3].Fare.mean()"
   ]
  },
  {
   "cell_type": "code",
   "execution_count": 151,
   "id": "47475661",
   "metadata": {},
   "outputs": [
    {
     "data": {
      "text/plain": [
       "26.309563898117386"
      ]
     },
     "execution_count": 151,
     "metadata": {},
     "output_type": "execute_result"
    }
   ],
   "source": [
    "data[data[\"Embarked\"] == \"S\"].Fare.mean()"
   ]
  },
  {
   "cell_type": "raw",
   "id": "a42e7410",
   "metadata": {},
   "source": [
    "ikisinin ortalamasını yazacağım 19~=20"
   ]
  },
  {
   "cell_type": "code",
   "execution_count": 152,
   "id": "bfb6938f",
   "metadata": {},
   "outputs": [],
   "source": [
    "data.Fare.fillna(20,inplace=True)"
   ]
  },
  {
   "cell_type": "code",
   "execution_count": 153,
   "id": "b53e36ee",
   "metadata": {},
   "outputs": [
    {
     "data": {
      "text/html": [
       "<div>\n",
       "<style scoped>\n",
       "    .dataframe tbody tr th:only-of-type {\n",
       "        vertical-align: middle;\n",
       "    }\n",
       "\n",
       "    .dataframe tbody tr th {\n",
       "        vertical-align: top;\n",
       "    }\n",
       "\n",
       "    .dataframe thead th {\n",
       "        text-align: right;\n",
       "    }\n",
       "</style>\n",
       "<table border=\"1\" class=\"dataframe\">\n",
       "  <thead>\n",
       "    <tr style=\"text-align: right;\">\n",
       "      <th></th>\n",
       "      <th>Survived</th>\n",
       "      <th>Pclass</th>\n",
       "      <th>Name</th>\n",
       "      <th>Sex</th>\n",
       "      <th>Age</th>\n",
       "      <th>SibSp</th>\n",
       "      <th>Parch</th>\n",
       "      <th>Ticket</th>\n",
       "      <th>Fare</th>\n",
       "      <th>Embarked</th>\n",
       "    </tr>\n",
       "  </thead>\n",
       "  <tbody>\n",
       "  </tbody>\n",
       "</table>\n",
       "</div>"
      ],
      "text/plain": [
       "Empty DataFrame\n",
       "Columns: [Survived, Pclass, Name, Sex, Age, SibSp, Parch, Ticket, Fare, Embarked]\n",
       "Index: []"
      ]
     },
     "execution_count": 153,
     "metadata": {},
     "output_type": "execute_result"
    }
   ],
   "source": [
    "data[data.Fare.isnull()]"
   ]
  },
  {
   "cell_type": "raw",
   "id": "8043b84e",
   "metadata": {},
   "source": [
    "Embarked için doldurma işlemi yapalım."
   ]
  },
  {
   "cell_type": "code",
   "execution_count": 154,
   "id": "6a0cb5ed",
   "metadata": {},
   "outputs": [
    {
     "data": {
      "text/html": [
       "<div>\n",
       "<style scoped>\n",
       "    .dataframe tbody tr th:only-of-type {\n",
       "        vertical-align: middle;\n",
       "    }\n",
       "\n",
       "    .dataframe tbody tr th {\n",
       "        vertical-align: top;\n",
       "    }\n",
       "\n",
       "    .dataframe thead th {\n",
       "        text-align: right;\n",
       "    }\n",
       "</style>\n",
       "<table border=\"1\" class=\"dataframe\">\n",
       "  <thead>\n",
       "    <tr style=\"text-align: right;\">\n",
       "      <th></th>\n",
       "      <th>Survived</th>\n",
       "      <th>Pclass</th>\n",
       "      <th>Name</th>\n",
       "      <th>Sex</th>\n",
       "      <th>Age</th>\n",
       "      <th>SibSp</th>\n",
       "      <th>Parch</th>\n",
       "      <th>Ticket</th>\n",
       "      <th>Fare</th>\n",
       "      <th>Embarked</th>\n",
       "    </tr>\n",
       "  </thead>\n",
       "  <tbody>\n",
       "    <tr>\n",
       "      <th>60</th>\n",
       "      <td>1.0</td>\n",
       "      <td>1</td>\n",
       "      <td>Icard, Miss. Amelie</td>\n",
       "      <td>female</td>\n",
       "      <td>38.0</td>\n",
       "      <td>0</td>\n",
       "      <td>0</td>\n",
       "      <td>113572</td>\n",
       "      <td>80.0</td>\n",
       "      <td>NaN</td>\n",
       "    </tr>\n",
       "    <tr>\n",
       "      <th>821</th>\n",
       "      <td>1.0</td>\n",
       "      <td>1</td>\n",
       "      <td>Stone, Mrs. George Nelson (Martha Evelyn)</td>\n",
       "      <td>female</td>\n",
       "      <td>62.0</td>\n",
       "      <td>0</td>\n",
       "      <td>0</td>\n",
       "      <td>113572</td>\n",
       "      <td>80.0</td>\n",
       "      <td>NaN</td>\n",
       "    </tr>\n",
       "  </tbody>\n",
       "</table>\n",
       "</div>"
      ],
      "text/plain": [
       "     Survived  Pclass                                       Name     Sex  \\\n",
       "60        1.0       1                        Icard, Miss. Amelie  female   \n",
       "821       1.0       1  Stone, Mrs. George Nelson (Martha Evelyn)  female   \n",
       "\n",
       "      Age  SibSp  Parch  Ticket  Fare Embarked  \n",
       "60   38.0      0      0  113572  80.0      NaN  \n",
       "821  62.0      0      0  113572  80.0      NaN  "
      ]
     },
     "execution_count": 154,
     "metadata": {},
     "output_type": "execute_result"
    }
   ],
   "source": [
    "data[data.Embarked.isnull()]"
   ]
  },
  {
   "cell_type": "code",
   "execution_count": 155,
   "id": "d8485c54",
   "metadata": {},
   "outputs": [
    {
     "data": {
      "text/plain": [
       "count     318\n",
       "unique      3\n",
       "top         S\n",
       "freq      174\n",
       "Name: Embarked, dtype: object"
      ]
     },
     "execution_count": 155,
     "metadata": {},
     "output_type": "execute_result"
    }
   ],
   "source": [
    "a=data.Embarked[data.Pclass == 1]\n",
    "a.describe()"
   ]
  },
  {
   "cell_type": "code",
   "execution_count": 156,
   "id": "c32c46d3",
   "metadata": {},
   "outputs": [],
   "source": [
    "data.Embarked.fillna(\"S\",inplace=True)"
   ]
  },
  {
   "cell_type": "code",
   "execution_count": 157,
   "id": "cdcfe7c8",
   "metadata": {},
   "outputs": [
    {
     "data": {
      "text/html": [
       "<div>\n",
       "<style scoped>\n",
       "    .dataframe tbody tr th:only-of-type {\n",
       "        vertical-align: middle;\n",
       "    }\n",
       "\n",
       "    .dataframe tbody tr th {\n",
       "        vertical-align: top;\n",
       "    }\n",
       "\n",
       "    .dataframe thead th {\n",
       "        text-align: right;\n",
       "    }\n",
       "</style>\n",
       "<table border=\"1\" class=\"dataframe\">\n",
       "  <thead>\n",
       "    <tr style=\"text-align: right;\">\n",
       "      <th></th>\n",
       "      <th>Survived</th>\n",
       "      <th>Pclass</th>\n",
       "      <th>Name</th>\n",
       "      <th>Sex</th>\n",
       "      <th>Age</th>\n",
       "      <th>SibSp</th>\n",
       "      <th>Parch</th>\n",
       "      <th>Ticket</th>\n",
       "      <th>Fare</th>\n",
       "      <th>Embarked</th>\n",
       "    </tr>\n",
       "  </thead>\n",
       "  <tbody>\n",
       "  </tbody>\n",
       "</table>\n",
       "</div>"
      ],
      "text/plain": [
       "Empty DataFrame\n",
       "Columns: [Survived, Pclass, Name, Sex, Age, SibSp, Parch, Ticket, Fare, Embarked]\n",
       "Index: []"
      ]
     },
     "execution_count": 157,
     "metadata": {},
     "output_type": "execute_result"
    }
   ],
   "source": [
    "data[data.Embarked.isnull()]"
   ]
  },
  {
   "cell_type": "raw",
   "id": "de2872f9",
   "metadata": {},
   "source": [
    "Not eksik değerler dolduktan sonra aykırı değer için çok değişkenli biçiminide yaparım."
   ]
  },
  {
   "cell_type": "markdown",
   "id": "011ff2fc",
   "metadata": {},
   "source": [
    "# Big Visualization"
   ]
  },
  {
   "cell_type": "raw",
   "id": "b395af68",
   "metadata": {},
   "source": [
    "correlation between Sibsp -- Parch -- Age -- Fare -- Survived"
   ]
  },
  {
   "cell_type": "code",
   "execution_count": 158,
   "id": "f3d5cd15",
   "metadata": {},
   "outputs": [],
   "source": [
    "list1 = [\"SibSp\", \"Parch\", \"Age\", \"Fare\", \"Survived\"]"
   ]
  },
  {
   "cell_type": "code",
   "execution_count": 159,
   "id": "89f9507c",
   "metadata": {},
   "outputs": [
    {
     "data": {
      "image/png": "[encoded data removed]",
      "text/plain": [
       "<Figure size 640x480 with 2 Axes>"
      ]
     },
     "metadata": {},
     "output_type": "display_data"
    }
   ],
   "source": [
    "import seaborn as sns\n",
    "sns.heatmap(data[list1].corr(),annot=True,fmt=\".2f\")\n",
    "plt.show()"
   ]
  },
  {
   "cell_type": "raw",
   "id": "10f23e2b",
   "metadata": {},
   "source": [
    "Heatmap korelasyon grafiğini görselleştiriyor "
   ]
  },
  {
   "cell_type": "raw",
   "id": "16fd47d3",
   "metadata": {},
   "source": [
    "Age boş değerlerini birazdan dolduracağız ve buradan gözlemlediğimiz kadarıyla SibSp, Parch, Fare arasında ilişki var "
   ]
  },
  {
   "cell_type": "raw",
   "id": "47c55ae3",
   "metadata": {},
   "source": [
    "Şimdi 2' li görselleştirmelere geçiyoruz "
   ]
  },
  {
   "cell_type": "raw",
   "id": "c898e398",
   "metadata": {},
   "source": [
    "Survived ve Fare arasında diğerlerine nazaran yüksek korelasyon mevcut. Buradan şu çıkarımı yapabiliriz; Fazla para ödemiş birinin hayatta kalma olasılığı yüksektir."
   ]
  },
  {
   "cell_type": "markdown",
   "id": "c92f7cf0",
   "metadata": {},
   "source": [
    "### SibSp -- Survived || Parch -- Survived || Pclass -- Survived || Embarked -- Survived\n"
   ]
  },
  {
   "cell_type": "code",
   "execution_count": 160,
   "id": "15dd20f5",
   "metadata": {},
   "outputs": [],
   "source": [
    "def visualization(independent_var):\n",
    "    g = sns.catplot(x=independent_var,y=\"Survived\",data=data, kind=\"bar\")\n",
    "    g.set_ylabels(\"Survived Probability\")\n",
    "    plt.show()"
   ]
  },
  {
   "cell_type": "code",
   "execution_count": 161,
   "id": "c23ed1c7",
   "metadata": {},
   "outputs": [
    {
     "data": {
      "image/png": "[encoded data removed]",
      "text/plain": [
       "<Figure size 500x500 with 1 Axes>"
      ]
     },
     "metadata": {},
     "output_type": "display_data"
    },
    {
     "data": {
      "image/png": "[encoded data removed]",
      "text/plain": [
       "<Figure size 500x500 with 1 Axes>"
      ]
     },
     "metadata": {},
     "output_type": "display_data"
    },
    {
     "data": {
      "image/png": "[encoded data removed]",
      "text/plain": [
       "<Figure size 500x500 with 1 Axes>"
      ]
     },
     "metadata": {},
     "output_type": "display_data"
    },
    {
     "data": {
      "image/png": "[encoded data removed]",
      "text/plain": [
       "<Figure size 500x500 with 1 Axes>"
      ]
     },
     "metadata": {},
     "output_type": "display_data"
    }
   ],
   "source": [
    "list_vis = [\"SibSp\", \"Parch\", \"Pclass\",\"Embarked\"]\n",
    "for i in list_vis:\n",
    "    visualization(i)"
   ]
  },
  {
   "cell_type": "raw",
   "id": "86506708",
   "metadata": {},
   "source": [
    "SibSp ile Parch arasındaki bağlantı gözlemleniyor. Yeni bir feature söz konusu olabilir."
   ]
  },
  {
   "cell_type": "markdown",
   "id": "65fcc28f",
   "metadata": {},
   "source": [
    "### Age -- Survived"
   ]
  },
  {
   "cell_type": "code",
   "execution_count": 162,
   "id": "fcb72285",
   "metadata": {},
   "outputs": [
    {
     "data": {
      "image/png": "[encoded data removed]",
      "text/plain": [
       "<Figure size 600x300 with 2 Axes>"
      ]
     },
     "metadata": {},
     "output_type": "display_data"
    }
   ],
   "source": [
    "g = sns.FacetGrid(data,col=\"Survived\")\n",
    "g.map(sns.distplot,\"Age\",bins=25)\n",
    "plt.show()"
   ]
  },
  {
   "cell_type": "raw",
   "id": "37c2f2b7",
   "metadata": {},
   "source": [
    "25 ile 30 yaşlarındakilerin ölme oranı çok yüksek ancak 15 yaşından küçüklerin hayatta kalması yüksek"
   ]
  },
  {
   "cell_type": "markdown",
   "id": "ac830f58",
   "metadata": {},
   "source": [
    "### Pclass -- Survived -- Age"
   ]
  },
  {
   "cell_type": "code",
   "execution_count": 163,
   "id": "ef6584cf",
   "metadata": {},
   "outputs": [
    {
     "data": {
      "image/png": "[encoded data removed]",
      "text/plain": [
       "<Figure size 611.111x900 with 6 Axes>"
      ]
     },
     "metadata": {},
     "output_type": "display_data"
    }
   ],
   "source": [
    "g = sns.FacetGrid(train_df, col = \"Survived\", row = \"Pclass\")\n",
    "g.map(plt.hist, \"Age\")\n",
    "g.add_legend()\n",
    "plt.show()"
   ]
  },
  {
   "cell_type": "raw",
   "id": "1931017b",
   "metadata": {},
   "source": [
    "Buradan şu çıkarımı yaparız; Pclass 1 ise hayatta kalma olasılığı oldukça yüksek, Pclass 2 de ise yarı yarıya, Pclass 3 e geldiğimizde ise gördüğümüz gibi hayatta kalma durumu çok düşük.\n",
    "Bu değişken modelimizin en önemli değişkeni olabilir."
   ]
  },
  {
   "cell_type": "markdown",
   "id": "998f8f02",
   "metadata": {},
   "source": [
    "### Embarked -- Sex -- Pclass -- Survived"
   ]
  },
  {
   "cell_type": "code",
   "execution_count": 164,
   "id": "1bfc5d77",
   "metadata": {},
   "outputs": [
    {
     "data": {
      "image/png": "[encoded data removed]",
      "text/plain": [
       "<Figure size 398x900 with 3 Axes>"
      ]
     },
     "metadata": {},
     "output_type": "display_data"
    }
   ],
   "source": [
    "g = sns.FacetGrid(data,row=\"Embarked\")\n",
    "g.map(sns.pointplot,\"Pclass\",\"Survived\",\"Sex\")\n",
    "g.add_legend()\n",
    "plt.show()"
   ]
  },
  {
   "cell_type": "markdown",
   "id": "2de17b15",
   "metadata": {},
   "source": [
    "### Embarked -- Sex -- Fare -- Survived"
   ]
  },
  {
   "cell_type": "code",
   "execution_count": 165,
   "id": "5a8d7585",
   "metadata": {},
   "outputs": [
    {
     "data": {
      "image/png": "[encoded data removed]",
      "text/plain": [
       "<Figure size 611.111x900 with 6 Axes>"
      ]
     },
     "metadata": {},
     "output_type": "display_data"
    }
   ],
   "source": [
    "g = sns.FacetGrid(train_df, row = \"Embarked\", col = \"Survived\")\n",
    "g.map(sns.barplot, \"Sex\", \"Fare\")\n",
    "g.add_legend()\n",
    "plt.show()"
   ]
  },
  {
   "cell_type": "raw",
   "id": "7ea3736a",
   "metadata": {},
   "source": [
    "Ödenen tutarlar yükseldikçe hayatta kalma durumu artıyor."
   ]
  },
  {
   "cell_type": "raw",
   "id": "00657ab8",
   "metadata": {},
   "source": [
    "Yaş ile alakalı boş değerleri doldurmak için çok değişkenli görselleştirmeler yapalım"
   ]
  },
  {
   "cell_type": "code",
   "execution_count": 166,
   "id": "2ac8348d",
   "metadata": {},
   "outputs": [
    {
     "data": {
      "image/png": "[encoded data removed]",
      "text/plain": [
       "<Figure size 640x480 with 2 Axes>"
      ]
     },
     "metadata": {},
     "output_type": "display_data"
    }
   ],
   "source": [
    "sns.heatmap(data[['SibSp', 'Parch', 'Age', 'Fare', 'Survived']].corr(),annot=True)\n",
    "plt.show()"
   ]
  },
  {
   "cell_type": "raw",
   "id": "88ee3de5",
   "metadata": {},
   "source": [
    "age için 3 değişkeni karşılaştırmak lazım (görsel). SibSp, Parch, Fare"
   ]
  },
  {
   "cell_type": "code",
   "execution_count": 167,
   "id": "0713b11b",
   "metadata": {},
   "outputs": [
    {
     "data": {
      "image/png": "[encoded data removed]",
      "text/plain": [
       "<Figure size 500x500 with 1 Axes>"
      ]
     },
     "metadata": {},
     "output_type": "display_data"
    }
   ],
   "source": [
    "sns.catplot(x=\"Sex\",y=\"Age\",data=data,kind=\"box\")\n",
    "plt.show()"
   ]
  },
  {
   "cell_type": "raw",
   "id": "133f7845",
   "metadata": {},
   "source": [
    "yaşın cinsiyetle ilişkilendirebileceğimiz bir durumu yok."
   ]
  },
  {
   "cell_type": "code",
   "execution_count": 168,
   "id": "c74b0a9b",
   "metadata": {},
   "outputs": [
    {
     "data": {
      "image/png": "[encoded data removed]",
      "text/plain": [
       "<Figure size 500x500 with 1 Axes>"
      ]
     },
     "metadata": {},
     "output_type": "display_data"
    }
   ],
   "source": [
    "sns.catplot(x=\"Pclass\",y=\"Age\",data=data,kind=\"box\")\n",
    "plt.show()"
   ]
  },
  {
   "cell_type": "raw",
   "id": "82469367",
   "metadata": {},
   "source": [
    "Pclass a göre yaş dağılımları değişiyor. 1 iken yaşlı insanlar genellikle , 3 iken ise daha genç insanlar .\n"
   ]
  },
  {
   "cell_type": "code",
   "execution_count": 169,
   "id": "8dd3c67d",
   "metadata": {},
   "outputs": [
    {
     "data": {
      "image/png": "[encoded data removed]",
      "text/plain": [
       "<Figure size 500x500 with 1 Axes>"
      ]
     },
     "metadata": {},
     "output_type": "display_data"
    }
   ],
   "source": [
    "sns.catplot(x=\"SibSp\",y=\"Age\",data=data,kind=\"box\")\n",
    "plt.show()"
   ]
  },
  {
   "cell_type": "raw",
   "id": "8a8fa1cd",
   "metadata": {},
   "source": [
    "sibsp ye göre age doldurmamızı uygun görmedim"
   ]
  },
  {
   "cell_type": "code",
   "execution_count": 170,
   "id": "c325790d",
   "metadata": {},
   "outputs": [
    {
     "data": {
      "image/png": "[encoded data removed]",
      "text/plain": [
       "<Figure size 500x500 with 1 Axes>"
      ]
     },
     "metadata": {},
     "output_type": "display_data"
    }
   ],
   "source": [
    "sns.catplot(x=\"Parch\",y=\"Age\",data=data,kind=\"box\")\n",
    "plt.show()"
   ]
  },
  {
   "cell_type": "code",
   "execution_count": 171,
   "id": "6c80946d",
   "metadata": {},
   "outputs": [],
   "source": [
    "index_na = list(data[\"Age\"][data[\"Age\"].isnull()].index)"
   ]
  },
  {
   "cell_type": "code",
   "execution_count": 172,
   "id": "d418529c",
   "metadata": {},
   "outputs": [],
   "source": [
    "import numpy as np"
   ]
  },
  {
   "cell_type": "code",
   "execution_count": 173,
   "id": "803dcd88",
   "metadata": {},
   "outputs": [],
   "source": [
    "index_nan_age = list(data[\"Age\"][data[\"Age\"].isnull()].index)\n",
    "for i in index_nan_age:\n",
    "    age_pred = data[\"Age\"][((data[\"SibSp\"] == data.iloc[i][\"SibSp\"]) &(data[\"Parch\"] == data.iloc[i][\"Parch\"])& (data[\"Pclass\"] == data.iloc[i][\"Pclass\"]))].median()\n",
    "    age_med = data[\"Age\"].median()\n",
    "    if not np.isnan(age_pred):\n",
    "        data[\"Age\"].iloc[i] = age_pred\n",
    "    else:\n",
    "        data[\"Age\"].iloc[i] = age_med"
   ]
  },
  {
   "cell_type": "code",
   "execution_count": 174,
   "id": "25177ceb",
   "metadata": {},
   "outputs": [
    {
     "data": {
      "text/plain": [
       "0"
      ]
     },
     "execution_count": 174,
     "metadata": {},
     "output_type": "execute_result"
    }
   ],
   "source": [
    "data.Age.isnull().sum()"
   ]
  },
  {
   "cell_type": "raw",
   "id": "f5bea5e2",
   "metadata": {},
   "source": [
    "Missing data kısmı bitti.\n",
    "LocalOutlierFactor yapılacak model tuning işleminden sonra tam bu adıma \n",
    "Birde Normalization yapılacak"
   ]
  },
  {
   "cell_type": "raw",
   "id": "17a6af18",
   "metadata": {},
   "source": [
    "Görselleştirme bölümünde ; farklı feature lar arasında korelasyon varmı yokmu, biz bu feature ları modelimizde kullanabilirmiyiz gibi sorunları yanıtladık"
   ]
  },
  {
   "cell_type": "markdown",
   "id": "4d51a1e7",
   "metadata": {},
   "source": [
    "# Feature Engineering"
   ]
  },
  {
   "cell_type": "raw",
   "id": "118c4267",
   "metadata": {},
   "source": [
    "Feature engineering bölümünde yeni featurelar yaratılır veya var olan feature lar çıkartılır\n",
    "Categorical variable to convert get_dummpy\n",
    "Ben PassengerId ve Gabin değişkenlerini ilk başta gözüme çarptığı için çıkarmıştım .\n",
    "Şimdi ise özellik yaratmaya çalışcaz"
   ]
  },
  {
   "cell_type": "code",
   "execution_count": 175,
   "id": "eeb16399",
   "metadata": {},
   "outputs": [
    {
     "name": "stdout",
     "output_type": "stream",
     "text": [
      "<class 'pandas.core.frame.DataFrame'>\n",
      "RangeIndex: 1299 entries, 0 to 1298\n",
      "Data columns (total 10 columns):\n",
      " #   Column    Non-Null Count  Dtype  \n",
      "---  ------    --------------  -----  \n",
      " 0   Survived  881 non-null    float64\n",
      " 1   Pclass    1299 non-null   int64  \n",
      " 2   Name      1299 non-null   object \n",
      " 3   Sex       1299 non-null   object \n",
      " 4   Age       1299 non-null   float64\n",
      " 5   SibSp     1299 non-null   int64  \n",
      " 6   Parch     1299 non-null   int64  \n",
      " 7   Ticket    1299 non-null   object \n",
      " 8   Fare      1299 non-null   float64\n",
      " 9   Embarked  1299 non-null   object \n",
      "dtypes: float64(3), int64(3), object(4)\n",
      "memory usage: 101.6+ KB\n"
     ]
    }
   ],
   "source": [
    "data.info()"
   ]
  },
  {
   "cell_type": "raw",
   "id": "dbe7c824",
   "metadata": {},
   "source": [
    "name ticket gibi çoklu categoric feature ların detaylarına ineceğiz."
   ]
  },
  {
   "cell_type": "code",
   "execution_count": 176,
   "id": "084ccfe6",
   "metadata": {},
   "outputs": [
    {
     "data": {
      "text/plain": [
       "0                               Braund, Mr. Owen Harris\n",
       "1     Cumings, Mrs. John Bradley (Florence Briggs Th...\n",
       "2                                Heikkinen, Miss. Laina\n",
       "3          Futrelle, Mrs. Jacques Heath (Lily May Peel)\n",
       "4                              Allen, Mr. William Henry\n",
       "5                                      Moran, Mr. James\n",
       "6                               McCarthy, Mr. Timothy J\n",
       "7                        Palsson, Master. Gosta Leonard\n",
       "8     Johnson, Mrs. Oscar W (Elisabeth Vilhelmina Berg)\n",
       "9                   Nasser, Mrs. Nicholas (Adele Achem)\n",
       "10                      Sandstrom, Miss. Marguerite Rut\n",
       "11                             Bonnell, Miss. Elizabeth\n",
       "12                       Saundercock, Mr. William Henry\n",
       "13                          Andersson, Mr. Anders Johan\n",
       "14                 Vestrom, Miss. Hulda Amanda Adolfina\n",
       "15                     Hewlett, Mrs. (Mary D Kingcome) \n",
       "16                                 Rice, Master. Eugene\n",
       "17                         Williams, Mr. Charles Eugene\n",
       "18    Vander Planke, Mrs. Julius (Emelia Maria Vande...\n",
       "19                              Masselmani, Mrs. Fatima\n",
       "Name: Name, dtype: object"
      ]
     },
     "execution_count": 176,
     "metadata": {},
     "output_type": "execute_result"
    }
   ],
   "source": [
    "data.Name.head(20)"
   ]
  },
  {
   "cell_type": "raw",
   "id": "b85140c7",
   "metadata": {},
   "source": [
    "şimdi name feature unu tartışacak olursak. Aslında önemsiz ve atılası bir feature gibi duruyor. Ancak bu feature da ünvanlar(title) mevcut. Belki bu ünvanlar yolcuların hayatta kalıp kalmamasını belirliyor olabilir."
   ]
  },
  {
   "cell_type": "code",
   "execution_count": 177,
   "id": "6ed8b0da",
   "metadata": {},
   "outputs": [],
   "source": [
    "# satırımızı . ya göre ayırıyoruz.\n",
    "data[\"Title\"] = [i.split(\".\")[0].split(\",\")[-1].strip() for i in data.Name]#i.split(\".\")[0] yapınca ilk indisi alıyor\n"
   ]
  },
  {
   "cell_type": "code",
   "execution_count": 178,
   "id": "faf1fbcc",
   "metadata": {},
   "outputs": [
    {
     "data": {
      "text/plain": [
       "count     1299\n",
       "unique      18\n",
       "top         Mr\n",
       "freq       753\n",
       "Name: Title, dtype: object"
      ]
     },
     "execution_count": 178,
     "metadata": {},
     "output_type": "execute_result"
    }
   ],
   "source": [
    "data.Title.describe()"
   ]
  },
  {
   "cell_type": "code",
   "execution_count": 179,
   "id": "e279e50a",
   "metadata": {},
   "outputs": [
    {
     "data": {
      "image/png": "[encoded data removed]",
      "text/plain": [
       "<Figure size 640x480 with 1 Axes>"
      ]
     },
     "metadata": {},
     "output_type": "display_data"
    }
   ],
   "source": [
    "sns.countplot(x=\"Title\",data=data)\n",
    "plt.xticks(rotation = 45)# x ekseni üzerinde işlemler yaptırıyor\n",
    "plt.show()"
   ]
  },
  {
   "cell_type": "code",
   "execution_count": 180,
   "id": "90ad64f0",
   "metadata": {},
   "outputs": [
    {
     "data": {
      "image/png": "[encoded data removed]",
      "text/plain": [
       "<Figure size 900x300 with 1 Axes>"
      ]
     },
     "metadata": {},
     "output_type": "display_data"
    }
   ],
   "source": [
    "plt.figure(figsize=(9,3))\n",
    "plt.bar(data.Title.value_counts().index,data.Title.value_counts())\n",
    "plt.xticks(data.Title.value_counts().index, data.Title.value_counts().index.values)   \n",
    "plt.title(\"Unvanlar\")\n",
    "plt.show()"
   ]
  },
  {
   "cell_type": "raw",
   "id": "a71172f7",
   "metadata": {},
   "source": [
    "18 tane deger türü var ancak 4 tanesi çok sayıda tekrarlanmış şekilde gözüküyor.ilk 4 ü alıp kalan kısmı other diye nitelendireceğiz"
   ]
  },
  {
   "cell_type": "code",
   "execution_count": 181,
   "id": "b956f771",
   "metadata": {},
   "outputs": [],
   "source": [
    "title_count = data.Title.value_counts()"
   ]
  },
  {
   "cell_type": "code",
   "execution_count": 182,
   "id": "05ac17bc",
   "metadata": {},
   "outputs": [],
   "source": [
    "over_50 = data.Title.value_counts() >50\n",
    "below_50 = data.Title.value_counts() <50"
   ]
  },
  {
   "cell_type": "code",
   "execution_count": 183,
   "id": "7fafc2ed",
   "metadata": {},
   "outputs": [],
   "source": [
    "selected_titles = title_count.index[over_50].tolist()"
   ]
  },
  {
   "cell_type": "code",
   "execution_count": 184,
   "id": "acb588c3",
   "metadata": {},
   "outputs": [
    {
     "data": {
      "text/plain": [
       "['Mr', 'Miss', 'Mrs', 'Master']"
      ]
     },
     "execution_count": 184,
     "metadata": {},
     "output_type": "execute_result"
    }
   ],
   "source": [
    "selected_titles"
   ]
  },
  {
   "cell_type": "code",
   "execution_count": 185,
   "id": "2a5b807e",
   "metadata": {},
   "outputs": [],
   "source": [
    "selected_other_titles = title_count.index[below_50].tolist()"
   ]
  },
  {
   "cell_type": "code",
   "execution_count": 186,
   "id": "dadaa728",
   "metadata": {},
   "outputs": [
    {
     "data": {
      "text/plain": [
       "['Rev',\n",
       " 'Dr',\n",
       " 'Col',\n",
       " 'Mlle',\n",
       " 'Major',\n",
       " 'Ms',\n",
       " 'Lady',\n",
       " 'Sir',\n",
       " 'Mme',\n",
       " 'Don',\n",
       " 'Capt',\n",
       " 'the Countess',\n",
       " 'Jonkheer',\n",
       " 'Dona']"
      ]
     },
     "execution_count": 186,
     "metadata": {},
     "output_type": "execute_result"
    }
   ],
   "source": [
    "selected_other_titles"
   ]
  },
  {
   "cell_type": "code",
   "execution_count": 187,
   "id": "2e881c14",
   "metadata": {},
   "outputs": [],
   "source": [
    "data.Title= data.Title.replace(selected_other_titles,'other')"
   ]
  },
  {
   "cell_type": "raw",
   "id": "0bbc3d33",
   "metadata": {},
   "source": [
    "İşlem tamamlandı artık yeni bir feature oluşturuldu name değişkeni silinebilir."
   ]
  },
  {
   "cell_type": "code",
   "execution_count": 188,
   "id": "4738c4fa",
   "metadata": {},
   "outputs": [],
   "source": [
    "data.drop([\"Name\"],axis=1,inplace=True)"
   ]
  },
  {
   "cell_type": "code",
   "execution_count": 189,
   "id": "95292701",
   "metadata": {},
   "outputs": [
    {
     "name": "stdout",
     "output_type": "stream",
     "text": [
      "<class 'pandas.core.frame.DataFrame'>\n",
      "RangeIndex: 1299 entries, 0 to 1298\n",
      "Data columns (total 10 columns):\n",
      " #   Column    Non-Null Count  Dtype  \n",
      "---  ------    --------------  -----  \n",
      " 0   Survived  881 non-null    float64\n",
      " 1   Pclass    1299 non-null   int64  \n",
      " 2   Sex       1299 non-null   object \n",
      " 3   Age       1299 non-null   float64\n",
      " 4   SibSp     1299 non-null   int64  \n",
      " 5   Parch     1299 non-null   int64  \n",
      " 6   Ticket    1299 non-null   object \n",
      " 7   Fare      1299 non-null   float64\n",
      " 8   Embarked  1299 non-null   object \n",
      " 9   Title     1299 non-null   object \n",
      "dtypes: float64(3), int64(3), object(4)\n",
      "memory usage: 101.6+ KB\n"
     ]
    }
   ],
   "source": [
    "data.info()"
   ]
  },
  {
   "cell_type": "code",
   "execution_count": 190,
   "id": "94f1d61f",
   "metadata": {},
   "outputs": [
    {
     "data": {
      "text/plain": [
       "array(['Mr', 'Mrs', 'Miss', 'Master', 'other'], dtype=object)"
      ]
     },
     "execution_count": 190,
     "metadata": {},
     "output_type": "execute_result"
    }
   ],
   "source": [
    "data.Title.unique()"
   ]
  },
  {
   "cell_type": "raw",
   "id": "6f46e53a",
   "metadata": {},
   "source": [
    "şimdi name değişkeni silindi ve sırada Title feature görselleştirmesi var."
   ]
  },
  {
   "cell_type": "code",
   "execution_count": 191,
   "id": "60aa2d0c",
   "metadata": {},
   "outputs": [
    {
     "data": {
      "image/png": "[encoded data removed]",
      "text/plain": [
       "<Figure size 640x480 with 1 Axes>"
      ]
     },
     "metadata": {},
     "output_type": "display_data"
    }
   ],
   "source": [
    "sns.countplot(x=data.Title.values,data=data)\n",
    "plt.show()"
   ]
  },
  {
   "cell_type": "raw",
   "id": "c99dc00e",
   "metadata": {},
   "source": [
    "eski halinde çok daha anlaşılır ve kaliteli bir veri görünüyor."
   ]
  },
  {
   "cell_type": "code",
   "execution_count": 192,
   "id": "b394bad0",
   "metadata": {},
   "outputs": [
    {
     "data": {
      "text/html": [
       "<div>\n",
       "<style scoped>\n",
       "    .dataframe tbody tr th:only-of-type {\n",
       "        vertical-align: middle;\n",
       "    }\n",
       "\n",
       "    .dataframe tbody tr th {\n",
       "        vertical-align: top;\n",
       "    }\n",
       "\n",
       "    .dataframe thead th {\n",
       "        text-align: right;\n",
       "    }\n",
       "</style>\n",
       "<table border=\"1\" class=\"dataframe\">\n",
       "  <thead>\n",
       "    <tr style=\"text-align: right;\">\n",
       "      <th></th>\n",
       "      <th>Survived</th>\n",
       "      <th>Pclass</th>\n",
       "      <th>Sex</th>\n",
       "      <th>Age</th>\n",
       "      <th>SibSp</th>\n",
       "      <th>Parch</th>\n",
       "      <th>Ticket</th>\n",
       "      <th>Fare</th>\n",
       "      <th>Embarked</th>\n",
       "      <th>Title_Master</th>\n",
       "      <th>Title_Miss</th>\n",
       "      <th>Title_Mr</th>\n",
       "      <th>Title_Mrs</th>\n",
       "      <th>Title_other</th>\n",
       "    </tr>\n",
       "  </thead>\n",
       "  <tbody>\n",
       "    <tr>\n",
       "      <th>0</th>\n",
       "      <td>0.0</td>\n",
       "      <td>3</td>\n",
       "      <td>male</td>\n",
       "      <td>22.0</td>\n",
       "      <td>1</td>\n",
       "      <td>0</td>\n",
       "      <td>A/5 21171</td>\n",
       "      <td>7.2500</td>\n",
       "      <td>S</td>\n",
       "      <td>0</td>\n",
       "      <td>0</td>\n",
       "      <td>1</td>\n",
       "      <td>0</td>\n",
       "      <td>0</td>\n",
       "    </tr>\n",
       "    <tr>\n",
       "      <th>1</th>\n",
       "      <td>1.0</td>\n",
       "      <td>1</td>\n",
       "      <td>female</td>\n",
       "      <td>38.0</td>\n",
       "      <td>1</td>\n",
       "      <td>0</td>\n",
       "      <td>PC 17599</td>\n",
       "      <td>71.2833</td>\n",
       "      <td>C</td>\n",
       "      <td>0</td>\n",
       "      <td>0</td>\n",
       "      <td>0</td>\n",
       "      <td>1</td>\n",
       "      <td>0</td>\n",
       "    </tr>\n",
       "    <tr>\n",
       "      <th>2</th>\n",
       "      <td>1.0</td>\n",
       "      <td>3</td>\n",
       "      <td>female</td>\n",
       "      <td>26.0</td>\n",
       "      <td>0</td>\n",
       "      <td>0</td>\n",
       "      <td>STON/O2. 3101282</td>\n",
       "      <td>7.9250</td>\n",
       "      <td>S</td>\n",
       "      <td>0</td>\n",
       "      <td>1</td>\n",
       "      <td>0</td>\n",
       "      <td>0</td>\n",
       "      <td>0</td>\n",
       "    </tr>\n",
       "    <tr>\n",
       "      <th>3</th>\n",
       "      <td>1.0</td>\n",
       "      <td>1</td>\n",
       "      <td>female</td>\n",
       "      <td>35.0</td>\n",
       "      <td>1</td>\n",
       "      <td>0</td>\n",
       "      <td>113803</td>\n",
       "      <td>53.1000</td>\n",
       "      <td>S</td>\n",
       "      <td>0</td>\n",
       "      <td>0</td>\n",
       "      <td>0</td>\n",
       "      <td>1</td>\n",
       "      <td>0</td>\n",
       "    </tr>\n",
       "    <tr>\n",
       "      <th>4</th>\n",
       "      <td>0.0</td>\n",
       "      <td>3</td>\n",
       "      <td>male</td>\n",
       "      <td>35.0</td>\n",
       "      <td>0</td>\n",
       "      <td>0</td>\n",
       "      <td>373450</td>\n",
       "      <td>8.0500</td>\n",
       "      <td>S</td>\n",
       "      <td>0</td>\n",
       "      <td>0</td>\n",
       "      <td>1</td>\n",
       "      <td>0</td>\n",
       "      <td>0</td>\n",
       "    </tr>\n",
       "    <tr>\n",
       "      <th>...</th>\n",
       "      <td>...</td>\n",
       "      <td>...</td>\n",
       "      <td>...</td>\n",
       "      <td>...</td>\n",
       "      <td>...</td>\n",
       "      <td>...</td>\n",
       "      <td>...</td>\n",
       "      <td>...</td>\n",
       "      <td>...</td>\n",
       "      <td>...</td>\n",
       "      <td>...</td>\n",
       "      <td>...</td>\n",
       "      <td>...</td>\n",
       "      <td>...</td>\n",
       "    </tr>\n",
       "    <tr>\n",
       "      <th>1294</th>\n",
       "      <td>NaN</td>\n",
       "      <td>3</td>\n",
       "      <td>male</td>\n",
       "      <td>25.0</td>\n",
       "      <td>0</td>\n",
       "      <td>0</td>\n",
       "      <td>A.5. 3236</td>\n",
       "      <td>8.0500</td>\n",
       "      <td>S</td>\n",
       "      <td>0</td>\n",
       "      <td>0</td>\n",
       "      <td>1</td>\n",
       "      <td>0</td>\n",
       "      <td>0</td>\n",
       "    </tr>\n",
       "    <tr>\n",
       "      <th>1295</th>\n",
       "      <td>NaN</td>\n",
       "      <td>1</td>\n",
       "      <td>female</td>\n",
       "      <td>39.0</td>\n",
       "      <td>0</td>\n",
       "      <td>0</td>\n",
       "      <td>PC 17758</td>\n",
       "      <td>108.9000</td>\n",
       "      <td>C</td>\n",
       "      <td>0</td>\n",
       "      <td>0</td>\n",
       "      <td>0</td>\n",
       "      <td>0</td>\n",
       "      <td>1</td>\n",
       "    </tr>\n",
       "    <tr>\n",
       "      <th>1296</th>\n",
       "      <td>NaN</td>\n",
       "      <td>3</td>\n",
       "      <td>male</td>\n",
       "      <td>38.5</td>\n",
       "      <td>0</td>\n",
       "      <td>0</td>\n",
       "      <td>SOTON/O.Q. 3101262</td>\n",
       "      <td>7.2500</td>\n",
       "      <td>S</td>\n",
       "      <td>0</td>\n",
       "      <td>0</td>\n",
       "      <td>1</td>\n",
       "      <td>0</td>\n",
       "      <td>0</td>\n",
       "    </tr>\n",
       "    <tr>\n",
       "      <th>1297</th>\n",
       "      <td>NaN</td>\n",
       "      <td>3</td>\n",
       "      <td>male</td>\n",
       "      <td>25.0</td>\n",
       "      <td>0</td>\n",
       "      <td>0</td>\n",
       "      <td>359309</td>\n",
       "      <td>8.0500</td>\n",
       "      <td>S</td>\n",
       "      <td>0</td>\n",
       "      <td>0</td>\n",
       "      <td>1</td>\n",
       "      <td>0</td>\n",
       "      <td>0</td>\n",
       "    </tr>\n",
       "    <tr>\n",
       "      <th>1298</th>\n",
       "      <td>NaN</td>\n",
       "      <td>3</td>\n",
       "      <td>male</td>\n",
       "      <td>16.0</td>\n",
       "      <td>1</td>\n",
       "      <td>1</td>\n",
       "      <td>2668</td>\n",
       "      <td>22.3583</td>\n",
       "      <td>C</td>\n",
       "      <td>1</td>\n",
       "      <td>0</td>\n",
       "      <td>0</td>\n",
       "      <td>0</td>\n",
       "      <td>0</td>\n",
       "    </tr>\n",
       "  </tbody>\n",
       "</table>\n",
       "<p>1299 rows × 14 columns</p>\n",
       "</div>"
      ],
      "text/plain": [
       "      Survived  Pclass     Sex   Age  SibSp  Parch              Ticket  \\\n",
       "0          0.0       3    male  22.0      1      0           A/5 21171   \n",
       "1          1.0       1  female  38.0      1      0            PC 17599   \n",
       "2          1.0       3  female  26.0      0      0    STON/O2. 3101282   \n",
       "3          1.0       1  female  35.0      1      0              113803   \n",
       "4          0.0       3    male  35.0      0      0              373450   \n",
       "...        ...     ...     ...   ...    ...    ...                 ...   \n",
       "1294       NaN       3    male  25.0      0      0           A.5. 3236   \n",
       "1295       NaN       1  female  39.0      0      0            PC 17758   \n",
       "1296       NaN       3    male  38.5      0      0  SOTON/O.Q. 3101262   \n",
       "1297       NaN       3    male  25.0      0      0              359309   \n",
       "1298       NaN       3    male  16.0      1      1                2668   \n",
       "\n",
       "          Fare Embarked  Title_Master  Title_Miss  Title_Mr  Title_Mrs  \\\n",
       "0       7.2500        S             0           0         1          0   \n",
       "1      71.2833        C             0           0         0          1   \n",
       "2       7.9250        S             0           1         0          0   \n",
       "3      53.1000        S             0           0         0          1   \n",
       "4       8.0500        S             0           0         1          0   \n",
       "...        ...      ...           ...         ...       ...        ...   \n",
       "1294    8.0500        S             0           0         1          0   \n",
       "1295  108.9000        C             0           0         0          0   \n",
       "1296    7.2500        S             0           0         1          0   \n",
       "1297    8.0500        S             0           0         1          0   \n",
       "1298   22.3583        C             1           0         0          0   \n",
       "\n",
       "      Title_other  \n",
       "0               0  \n",
       "1               0  \n",
       "2               0  \n",
       "3               0  \n",
       "4               0  \n",
       "...           ...  \n",
       "1294            0  \n",
       "1295            1  \n",
       "1296            0  \n",
       "1297            0  \n",
       "1298            0  \n",
       "\n",
       "[1299 rows x 14 columns]"
      ]
     },
     "execution_count": 192,
     "metadata": {},
     "output_type": "execute_result"
    }
   ],
   "source": [
    "pd.get_dummies(data,columns=[\"Title\"],dtype=\"int64\")"
   ]
  },
  {
   "cell_type": "raw",
   "id": "997cecf3",
   "metadata": {},
   "source": [
    "Yeni değişken yaratmak"
   ]
  },
  {
   "cell_type": "markdown",
   "id": "c5e9d4f3",
   "metadata": {},
   "source": [
    "#### Family Size"
   ]
  },
  {
   "cell_type": "code",
   "execution_count": 193,
   "id": "238306b1",
   "metadata": {},
   "outputs": [],
   "source": [
    "data[\"Fsize\"] = data[\"SibSp\"] + data[\"Parch\"] + 1"
   ]
  },
  {
   "cell_type": "code",
   "execution_count": 194,
   "id": "4a711efe",
   "metadata": {},
   "outputs": [
    {
     "data": {
      "image/png": "[encoded data removed]",
      "text/plain": [
       "<Figure size 500x500 with 1 Axes>"
      ]
     },
     "metadata": {},
     "output_type": "display_data"
    }
   ],
   "source": [
    "g = sns.catplot(x = \"Fsize\", y = \"Survived\", data = data, kind = \"bar\")\n",
    "g.set_ylabels(\"Survival\")\n",
    "plt.show()"
   ]
  },
  {
   "cell_type": "code",
   "execution_count": 195,
   "id": "04642331",
   "metadata": {},
   "outputs": [
    {
     "data": {
      "text/plain": [
       "count    1299.000000\n",
       "mean        1.825250\n",
       "std         1.427048\n",
       "min         1.000000\n",
       "25%         1.000000\n",
       "50%         1.000000\n",
       "75%         2.000000\n",
       "max        11.000000\n",
       "Name: Fsize, dtype: float64"
      ]
     },
     "execution_count": 195,
     "metadata": {},
     "output_type": "execute_result"
    }
   ],
   "source": [
    "data.Fsize.describe()"
   ]
  },
  {
   "cell_type": "code",
   "execution_count": 196,
   "id": "c605cf36",
   "metadata": {},
   "outputs": [],
   "source": [
    "data[\"family_size\"] = np.arange(data.shape[0])"
   ]
  },
  {
   "cell_type": "code",
   "execution_count": 197,
   "id": "61bb9a51",
   "metadata": {},
   "outputs": [
    {
     "data": {
      "text/plain": [
       "5"
      ]
     },
     "execution_count": 197,
     "metadata": {},
     "output_type": "execute_result"
    }
   ],
   "source": [
    "data.family_size[5]"
   ]
  },
  {
   "cell_type": "code",
   "execution_count": 198,
   "id": "8ec841f0",
   "metadata": {},
   "outputs": [],
   "source": [
    "for id, i in enumerate(data[\"Fsize\"]):\n",
    "    if i ==5 or i == 6 : \n",
    "        data.family_size[id] = 2\n",
    "    elif i ==1 or i == 7 :\n",
    "        data.family_size[id] = 1\n",
    "    else:\n",
    "        data.family_size[id] = 0"
   ]
  },
  {
   "cell_type": "code",
   "execution_count": 199,
   "id": "b713f834",
   "metadata": {},
   "outputs": [
    {
     "data": {
      "text/html": [
       "<div>\n",
       "<style scoped>\n",
       "    .dataframe tbody tr th:only-of-type {\n",
       "        vertical-align: middle;\n",
       "    }\n",
       "\n",
       "    .dataframe tbody tr th {\n",
       "        vertical-align: top;\n",
       "    }\n",
       "\n",
       "    .dataframe thead th {\n",
       "        text-align: right;\n",
       "    }\n",
       "</style>\n",
       "<table border=\"1\" class=\"dataframe\">\n",
       "  <thead>\n",
       "    <tr style=\"text-align: right;\">\n",
       "      <th></th>\n",
       "      <th>Survived</th>\n",
       "      <th>Pclass</th>\n",
       "      <th>Sex</th>\n",
       "      <th>Age</th>\n",
       "      <th>SibSp</th>\n",
       "      <th>Parch</th>\n",
       "      <th>Ticket</th>\n",
       "      <th>Fare</th>\n",
       "      <th>Embarked</th>\n",
       "      <th>Title</th>\n",
       "      <th>Fsize</th>\n",
       "      <th>family_size</th>\n",
       "    </tr>\n",
       "  </thead>\n",
       "  <tbody>\n",
       "    <tr>\n",
       "      <th>1294</th>\n",
       "      <td>NaN</td>\n",
       "      <td>3</td>\n",
       "      <td>male</td>\n",
       "      <td>25.0</td>\n",
       "      <td>0</td>\n",
       "      <td>0</td>\n",
       "      <td>A.5. 3236</td>\n",
       "      <td>8.0500</td>\n",
       "      <td>S</td>\n",
       "      <td>Mr</td>\n",
       "      <td>1</td>\n",
       "      <td>1</td>\n",
       "    </tr>\n",
       "    <tr>\n",
       "      <th>1295</th>\n",
       "      <td>NaN</td>\n",
       "      <td>1</td>\n",
       "      <td>female</td>\n",
       "      <td>39.0</td>\n",
       "      <td>0</td>\n",
       "      <td>0</td>\n",
       "      <td>PC 17758</td>\n",
       "      <td>108.9000</td>\n",
       "      <td>C</td>\n",
       "      <td>other</td>\n",
       "      <td>1</td>\n",
       "      <td>1</td>\n",
       "    </tr>\n",
       "    <tr>\n",
       "      <th>1296</th>\n",
       "      <td>NaN</td>\n",
       "      <td>3</td>\n",
       "      <td>male</td>\n",
       "      <td>38.5</td>\n",
       "      <td>0</td>\n",
       "      <td>0</td>\n",
       "      <td>SOTON/O.Q. 3101262</td>\n",
       "      <td>7.2500</td>\n",
       "      <td>S</td>\n",
       "      <td>Mr</td>\n",
       "      <td>1</td>\n",
       "      <td>1</td>\n",
       "    </tr>\n",
       "    <tr>\n",
       "      <th>1297</th>\n",
       "      <td>NaN</td>\n",
       "      <td>3</td>\n",
       "      <td>male</td>\n",
       "      <td>25.0</td>\n",
       "      <td>0</td>\n",
       "      <td>0</td>\n",
       "      <td>359309</td>\n",
       "      <td>8.0500</td>\n",
       "      <td>S</td>\n",
       "      <td>Mr</td>\n",
       "      <td>1</td>\n",
       "      <td>1</td>\n",
       "    </tr>\n",
       "    <tr>\n",
       "      <th>1298</th>\n",
       "      <td>NaN</td>\n",
       "      <td>3</td>\n",
       "      <td>male</td>\n",
       "      <td>16.0</td>\n",
       "      <td>1</td>\n",
       "      <td>1</td>\n",
       "      <td>2668</td>\n",
       "      <td>22.3583</td>\n",
       "      <td>C</td>\n",
       "      <td>Master</td>\n",
       "      <td>3</td>\n",
       "      <td>0</td>\n",
       "    </tr>\n",
       "  </tbody>\n",
       "</table>\n",
       "</div>"
      ],
      "text/plain": [
       "      Survived  Pclass     Sex   Age  SibSp  Parch              Ticket  \\\n",
       "1294       NaN       3    male  25.0      0      0           A.5. 3236   \n",
       "1295       NaN       1  female  39.0      0      0            PC 17758   \n",
       "1296       NaN       3    male  38.5      0      0  SOTON/O.Q. 3101262   \n",
       "1297       NaN       3    male  25.0      0      0              359309   \n",
       "1298       NaN       3    male  16.0      1      1                2668   \n",
       "\n",
       "          Fare Embarked   Title  Fsize  family_size  \n",
       "1294    8.0500        S      Mr      1            1  \n",
       "1295  108.9000        C   other      1            1  \n",
       "1296    7.2500        S      Mr      1            1  \n",
       "1297    8.0500        S      Mr      1            1  \n",
       "1298   22.3583        C  Master      3            0  "
      ]
     },
     "execution_count": 199,
     "metadata": {},
     "output_type": "execute_result"
    }
   ],
   "source": [
    "data.tail()"
   ]
  },
  {
   "cell_type": "code",
   "execution_count": 200,
   "id": "7e568fb9",
   "metadata": {},
   "outputs": [
    {
     "data": {
      "text/plain": [
       "family_size\n",
       "1    806\n",
       "0    449\n",
       "2     44\n",
       "Name: count, dtype: int64"
      ]
     },
     "execution_count": 200,
     "metadata": {},
     "output_type": "execute_result"
    }
   ],
   "source": [
    "data.family_size.value_counts()"
   ]
  },
  {
   "cell_type": "code",
   "execution_count": 201,
   "id": "5a849e28",
   "metadata": {},
   "outputs": [
    {
     "data": {
      "image/png": "[encoded data removed]",
      "text/plain": [
       "<Figure size 500x500 with 1 Axes>"
      ]
     },
     "metadata": {},
     "output_type": "display_data"
    }
   ],
   "source": [
    "g = sns.catplot(x = \"family_size\", y = \"Survived\", data = data, kind = \"bar\")\n",
    "g.set_ylabels(\"Survival\")\n",
    "plt.show()"
   ]
  },
  {
   "cell_type": "code",
   "execution_count": 202,
   "id": "f0640ef0",
   "metadata": {},
   "outputs": [
    {
     "name": "stdout",
     "output_type": "stream",
     "text": [
      "<class 'pandas.core.frame.DataFrame'>\n",
      "RangeIndex: 1299 entries, 0 to 1298\n",
      "Data columns (total 12 columns):\n",
      " #   Column       Non-Null Count  Dtype  \n",
      "---  ------       --------------  -----  \n",
      " 0   Survived     881 non-null    float64\n",
      " 1   Pclass       1299 non-null   int64  \n",
      " 2   Sex          1299 non-null   object \n",
      " 3   Age          1299 non-null   float64\n",
      " 4   SibSp        1299 non-null   int64  \n",
      " 5   Parch        1299 non-null   int64  \n",
      " 6   Ticket       1299 non-null   object \n",
      " 7   Fare         1299 non-null   float64\n",
      " 8   Embarked     1299 non-null   object \n",
      " 9   Title        1299 non-null   object \n",
      " 10  Fsize        1299 non-null   int64  \n",
      " 11  family_size  1299 non-null   int32  \n",
      "dtypes: float64(3), int32(1), int64(4), object(4)\n",
      "memory usage: 116.8+ KB\n"
     ]
    }
   ],
   "source": [
    "data.info()"
   ]
  },
  {
   "cell_type": "code",
   "execution_count": 203,
   "id": "786f06d5",
   "metadata": {},
   "outputs": [],
   "source": [
    "data = pd.get_dummies(data, columns= [\"family_size\"],dtype=\"int64\")"
   ]
  },
  {
   "cell_type": "code",
   "execution_count": 204,
   "id": "e274dcfe",
   "metadata": {},
   "outputs": [
    {
     "data": {
      "text/html": [
       "<div>\n",
       "<style scoped>\n",
       "    .dataframe tbody tr th:only-of-type {\n",
       "        vertical-align: middle;\n",
       "    }\n",
       "\n",
       "    .dataframe tbody tr th {\n",
       "        vertical-align: top;\n",
       "    }\n",
       "\n",
       "    .dataframe thead th {\n",
       "        text-align: right;\n",
       "    }\n",
       "</style>\n",
       "<table border=\"1\" class=\"dataframe\">\n",
       "  <thead>\n",
       "    <tr style=\"text-align: right;\">\n",
       "      <th></th>\n",
       "      <th>Survived</th>\n",
       "      <th>Pclass</th>\n",
       "      <th>Sex</th>\n",
       "      <th>Age</th>\n",
       "      <th>SibSp</th>\n",
       "      <th>Parch</th>\n",
       "      <th>Ticket</th>\n",
       "      <th>Fare</th>\n",
       "      <th>Embarked</th>\n",
       "      <th>Title</th>\n",
       "      <th>Fsize</th>\n",
       "      <th>family_size_0</th>\n",
       "      <th>family_size_1</th>\n",
       "      <th>family_size_2</th>\n",
       "    </tr>\n",
       "  </thead>\n",
       "  <tbody>\n",
       "    <tr>\n",
       "      <th>0</th>\n",
       "      <td>0.0</td>\n",
       "      <td>3</td>\n",
       "      <td>male</td>\n",
       "      <td>22.0</td>\n",
       "      <td>1</td>\n",
       "      <td>0</td>\n",
       "      <td>A/5 21171</td>\n",
       "      <td>7.2500</td>\n",
       "      <td>S</td>\n",
       "      <td>Mr</td>\n",
       "      <td>2</td>\n",
       "      <td>1</td>\n",
       "      <td>0</td>\n",
       "      <td>0</td>\n",
       "    </tr>\n",
       "    <tr>\n",
       "      <th>1</th>\n",
       "      <td>1.0</td>\n",
       "      <td>1</td>\n",
       "      <td>female</td>\n",
       "      <td>38.0</td>\n",
       "      <td>1</td>\n",
       "      <td>0</td>\n",
       "      <td>PC 17599</td>\n",
       "      <td>71.2833</td>\n",
       "      <td>C</td>\n",
       "      <td>Mrs</td>\n",
       "      <td>2</td>\n",
       "      <td>1</td>\n",
       "      <td>0</td>\n",
       "      <td>0</td>\n",
       "    </tr>\n",
       "    <tr>\n",
       "      <th>2</th>\n",
       "      <td>1.0</td>\n",
       "      <td>3</td>\n",
       "      <td>female</td>\n",
       "      <td>26.0</td>\n",
       "      <td>0</td>\n",
       "      <td>0</td>\n",
       "      <td>STON/O2. 3101282</td>\n",
       "      <td>7.9250</td>\n",
       "      <td>S</td>\n",
       "      <td>Miss</td>\n",
       "      <td>1</td>\n",
       "      <td>0</td>\n",
       "      <td>1</td>\n",
       "      <td>0</td>\n",
       "    </tr>\n",
       "    <tr>\n",
       "      <th>3</th>\n",
       "      <td>1.0</td>\n",
       "      <td>1</td>\n",
       "      <td>female</td>\n",
       "      <td>35.0</td>\n",
       "      <td>1</td>\n",
       "      <td>0</td>\n",
       "      <td>113803</td>\n",
       "      <td>53.1000</td>\n",
       "      <td>S</td>\n",
       "      <td>Mrs</td>\n",
       "      <td>2</td>\n",
       "      <td>1</td>\n",
       "      <td>0</td>\n",
       "      <td>0</td>\n",
       "    </tr>\n",
       "    <tr>\n",
       "      <th>4</th>\n",
       "      <td>0.0</td>\n",
       "      <td>3</td>\n",
       "      <td>male</td>\n",
       "      <td>35.0</td>\n",
       "      <td>0</td>\n",
       "      <td>0</td>\n",
       "      <td>373450</td>\n",
       "      <td>8.0500</td>\n",
       "      <td>S</td>\n",
       "      <td>Mr</td>\n",
       "      <td>1</td>\n",
       "      <td>0</td>\n",
       "      <td>1</td>\n",
       "      <td>0</td>\n",
       "    </tr>\n",
       "  </tbody>\n",
       "</table>\n",
       "</div>"
      ],
      "text/plain": [
       "   Survived  Pclass     Sex   Age  SibSp  Parch            Ticket     Fare  \\\n",
       "0       0.0       3    male  22.0      1      0         A/5 21171   7.2500   \n",
       "1       1.0       1  female  38.0      1      0          PC 17599  71.2833   \n",
       "2       1.0       3  female  26.0      0      0  STON/O2. 3101282   7.9250   \n",
       "3       1.0       1  female  35.0      1      0            113803  53.1000   \n",
       "4       0.0       3    male  35.0      0      0            373450   8.0500   \n",
       "\n",
       "  Embarked Title  Fsize  family_size_0  family_size_1  family_size_2  \n",
       "0        S    Mr      2              1              0              0  \n",
       "1        C   Mrs      2              1              0              0  \n",
       "2        S  Miss      1              0              1              0  \n",
       "3        S   Mrs      2              1              0              0  \n",
       "4        S    Mr      1              0              1              0  "
      ]
     },
     "execution_count": 204,
     "metadata": {},
     "output_type": "execute_result"
    }
   ],
   "source": [
    "data.head()"
   ]
  },
  {
   "cell_type": "code",
   "execution_count": 205,
   "id": "561d5d71",
   "metadata": {},
   "outputs": [],
   "source": [
    "data = pd.get_dummies(data, columns= [\"Fsize\"],dtype=\"int64\")"
   ]
  },
  {
   "cell_type": "code",
   "execution_count": 206,
   "id": "ed06bb2e",
   "metadata": {},
   "outputs": [],
   "source": [
    "data = pd.get_dummies(data, columns= [\"Embarked\"],dtype=\"int64\")"
   ]
  },
  {
   "cell_type": "code",
   "execution_count": 207,
   "id": "c60189ab",
   "metadata": {},
   "outputs": [],
   "source": [
    "data = pd.get_dummies(data, columns= [\"Sex\"],dtype=\"int64\")\n",
    "data = pd.get_dummies(data, columns= [\"Pclass\"],dtype=\"int64\")"
   ]
  },
  {
   "cell_type": "code",
   "execution_count": 208,
   "id": "c7a32dd9",
   "metadata": {},
   "outputs": [],
   "source": [
    "data = pd.get_dummies(data, columns= [\"Title\"],dtype=\"int64\")"
   ]
  },
  {
   "cell_type": "code",
   "execution_count": 209,
   "id": "a948c3d6",
   "metadata": {},
   "outputs": [
    {
     "data": {
      "text/html": [
       "<div>\n",
       "<style scoped>\n",
       "    .dataframe tbody tr th:only-of-type {\n",
       "        vertical-align: middle;\n",
       "    }\n",
       "\n",
       "    .dataframe tbody tr th {\n",
       "        vertical-align: top;\n",
       "    }\n",
       "\n",
       "    .dataframe thead th {\n",
       "        text-align: right;\n",
       "    }\n",
       "</style>\n",
       "<table border=\"1\" class=\"dataframe\">\n",
       "  <thead>\n",
       "    <tr style=\"text-align: right;\">\n",
       "      <th></th>\n",
       "      <th>Survived</th>\n",
       "      <th>Age</th>\n",
       "      <th>SibSp</th>\n",
       "      <th>Parch</th>\n",
       "      <th>Ticket</th>\n",
       "      <th>Fare</th>\n",
       "      <th>family_size_0</th>\n",
       "      <th>family_size_1</th>\n",
       "      <th>family_size_2</th>\n",
       "      <th>Fsize_1</th>\n",
       "      <th>...</th>\n",
       "      <th>Sex_female</th>\n",
       "      <th>Sex_male</th>\n",
       "      <th>Pclass_1</th>\n",
       "      <th>Pclass_2</th>\n",
       "      <th>Pclass_3</th>\n",
       "      <th>Title_Master</th>\n",
       "      <th>Title_Miss</th>\n",
       "      <th>Title_Mr</th>\n",
       "      <th>Title_Mrs</th>\n",
       "      <th>Title_other</th>\n",
       "    </tr>\n",
       "  </thead>\n",
       "  <tbody>\n",
       "    <tr>\n",
       "      <th>0</th>\n",
       "      <td>0.0</td>\n",
       "      <td>22.0</td>\n",
       "      <td>1</td>\n",
       "      <td>0</td>\n",
       "      <td>A/5 21171</td>\n",
       "      <td>7.2500</td>\n",
       "      <td>1</td>\n",
       "      <td>0</td>\n",
       "      <td>0</td>\n",
       "      <td>0</td>\n",
       "      <td>...</td>\n",
       "      <td>0</td>\n",
       "      <td>1</td>\n",
       "      <td>0</td>\n",
       "      <td>0</td>\n",
       "      <td>1</td>\n",
       "      <td>0</td>\n",
       "      <td>0</td>\n",
       "      <td>1</td>\n",
       "      <td>0</td>\n",
       "      <td>0</td>\n",
       "    </tr>\n",
       "    <tr>\n",
       "      <th>1</th>\n",
       "      <td>1.0</td>\n",
       "      <td>38.0</td>\n",
       "      <td>1</td>\n",
       "      <td>0</td>\n",
       "      <td>PC 17599</td>\n",
       "      <td>71.2833</td>\n",
       "      <td>1</td>\n",
       "      <td>0</td>\n",
       "      <td>0</td>\n",
       "      <td>0</td>\n",
       "      <td>...</td>\n",
       "      <td>1</td>\n",
       "      <td>0</td>\n",
       "      <td>1</td>\n",
       "      <td>0</td>\n",
       "      <td>0</td>\n",
       "      <td>0</td>\n",
       "      <td>0</td>\n",
       "      <td>0</td>\n",
       "      <td>1</td>\n",
       "      <td>0</td>\n",
       "    </tr>\n",
       "    <tr>\n",
       "      <th>2</th>\n",
       "      <td>1.0</td>\n",
       "      <td>26.0</td>\n",
       "      <td>0</td>\n",
       "      <td>0</td>\n",
       "      <td>STON/O2. 3101282</td>\n",
       "      <td>7.9250</td>\n",
       "      <td>0</td>\n",
       "      <td>1</td>\n",
       "      <td>0</td>\n",
       "      <td>1</td>\n",
       "      <td>...</td>\n",
       "      <td>1</td>\n",
       "      <td>0</td>\n",
       "      <td>0</td>\n",
       "      <td>0</td>\n",
       "      <td>1</td>\n",
       "      <td>0</td>\n",
       "      <td>1</td>\n",
       "      <td>0</td>\n",
       "      <td>0</td>\n",
       "      <td>0</td>\n",
       "    </tr>\n",
       "    <tr>\n",
       "      <th>3</th>\n",
       "      <td>1.0</td>\n",
       "      <td>35.0</td>\n",
       "      <td>1</td>\n",
       "      <td>0</td>\n",
       "      <td>113803</td>\n",
       "      <td>53.1000</td>\n",
       "      <td>1</td>\n",
       "      <td>0</td>\n",
       "      <td>0</td>\n",
       "      <td>0</td>\n",
       "      <td>...</td>\n",
       "      <td>1</td>\n",
       "      <td>0</td>\n",
       "      <td>1</td>\n",
       "      <td>0</td>\n",
       "      <td>0</td>\n",
       "      <td>0</td>\n",
       "      <td>0</td>\n",
       "      <td>0</td>\n",
       "      <td>1</td>\n",
       "      <td>0</td>\n",
       "    </tr>\n",
       "    <tr>\n",
       "      <th>4</th>\n",
       "      <td>0.0</td>\n",
       "      <td>35.0</td>\n",
       "      <td>0</td>\n",
       "      <td>0</td>\n",
       "      <td>373450</td>\n",
       "      <td>8.0500</td>\n",
       "      <td>0</td>\n",
       "      <td>1</td>\n",
       "      <td>0</td>\n",
       "      <td>1</td>\n",
       "      <td>...</td>\n",
       "      <td>0</td>\n",
       "      <td>1</td>\n",
       "      <td>0</td>\n",
       "      <td>0</td>\n",
       "      <td>1</td>\n",
       "      <td>0</td>\n",
       "      <td>0</td>\n",
       "      <td>1</td>\n",
       "      <td>0</td>\n",
       "      <td>0</td>\n",
       "    </tr>\n",
       "  </tbody>\n",
       "</table>\n",
       "<p>5 rows × 31 columns</p>\n",
       "</div>"
      ],
      "text/plain": [
       "   Survived   Age  SibSp  Parch            Ticket     Fare  family_size_0  \\\n",
       "0       0.0  22.0      1      0         A/5 21171   7.2500              1   \n",
       "1       1.0  38.0      1      0          PC 17599  71.2833              1   \n",
       "2       1.0  26.0      0      0  STON/O2. 3101282   7.9250              0   \n",
       "3       1.0  35.0      1      0            113803  53.1000              1   \n",
       "4       0.0  35.0      0      0            373450   8.0500              0   \n",
       "\n",
       "   family_size_1  family_size_2  Fsize_1  ...  Sex_female  Sex_male  Pclass_1  \\\n",
       "0              0              0        0  ...           0         1         0   \n",
       "1              0              0        0  ...           1         0         1   \n",
       "2              1              0        1  ...           1         0         0   \n",
       "3              0              0        0  ...           1         0         1   \n",
       "4              1              0        1  ...           0         1         0   \n",
       "\n",
       "   Pclass_2  Pclass_3  Title_Master  Title_Miss  Title_Mr  Title_Mrs  \\\n",
       "0         0         1             0           0         1          0   \n",
       "1         0         0             0           0         0          1   \n",
       "2         0         1             0           1         0          0   \n",
       "3         0         0             0           0         0          1   \n",
       "4         0         1             0           0         1          0   \n",
       "\n",
       "   Title_other  \n",
       "0            0  \n",
       "1            0  \n",
       "2            0  \n",
       "3            0  \n",
       "4            0  \n",
       "\n",
       "[5 rows x 31 columns]"
      ]
     },
     "execution_count": 209,
     "metadata": {},
     "output_type": "execute_result"
    }
   ],
   "source": [
    "data.head()"
   ]
  },
  {
   "cell_type": "raw",
   "id": "3fc98f8c",
   "metadata": {},
   "source": [
    "Ticket değişkenine karışmadım."
   ]
  },
  {
   "cell_type": "code",
   "execution_count": 210,
   "id": "eea9eff3",
   "metadata": {},
   "outputs": [],
   "source": [
    "data.drop([\"Ticket\"],axis=1,inplace=True)"
   ]
  },
  {
   "cell_type": "code",
   "execution_count": 211,
   "id": "b95ff4e9",
   "metadata": {},
   "outputs": [
    {
     "data": {
      "text/plain": [
       "Index(['Survived', 'Age', 'SibSp', 'Parch', 'Fare', 'family_size_0',\n",
       "       'family_size_1', 'family_size_2', 'Fsize_1', 'Fsize_2', 'Fsize_3',\n",
       "       'Fsize_4', 'Fsize_5', 'Fsize_6', 'Fsize_7', 'Fsize_8', 'Fsize_11',\n",
       "       'Embarked_C', 'Embarked_Q', 'Embarked_S', 'Sex_female', 'Sex_male',\n",
       "       'Pclass_1', 'Pclass_2', 'Pclass_3', 'Title_Master', 'Title_Miss',\n",
       "       'Title_Mr', 'Title_Mrs', 'Title_other'],\n",
       "      dtype='object')"
      ]
     },
     "execution_count": 211,
     "metadata": {},
     "output_type": "execute_result"
    }
   ],
   "source": [
    "data.columns"
   ]
  },
  {
   "cell_type": "markdown",
   "id": "e48d398a",
   "metadata": {},
   "source": [
    "# Modeling"
   ]
  },
  {
   "cell_type": "raw",
   "id": "0ae39cf6",
   "metadata": {},
   "source": [
    "Şimdi Veri Önişleme başamağına son verdik.\n",
    "Sıra Modellemede ve tuning işlevinde."
   ]
  },
  {
   "cell_type": "raw",
   "id": "38893a09",
   "metadata": {},
   "source": [
    "Note: Normalization, özellik çıkarımı adımlarını tekrardan gireceğiz modelin \n",
    "doğruluğunu yükseltmek için"
   ]
  },
  {
   "cell_type": "code",
   "execution_count": 212,
   "id": "ff3870bb",
   "metadata": {},
   "outputs": [],
   "source": [
    "from sklearn.model_selection import train_test_split, GridSearchCV, RandomizedSearchCV\n",
    "from sklearn.linear_model import LogisticRegression\n",
    "from sklearn.svm import SVC\n",
    "from sklearn.ensemble import RandomForestClassifier\n",
    "from sklearn.neighbors import KNeighborsClassifier\n",
    "from sklearn.tree import DecisionTreeClassifier\n",
    "from sklearn.metrics import accuracy_score"
   ]
  },
  {
   "cell_type": "code",
   "execution_count": 213,
   "id": "6bd5e55d",
   "metadata": {},
   "outputs": [
    {
     "data": {
      "text/plain": [
       "882"
      ]
     },
     "execution_count": 213,
     "metadata": {},
     "output_type": "execute_result"
    }
   ],
   "source": [
    "len(data.loc[:train_len,:])"
   ]
  },
  {
   "cell_type": "code",
   "execution_count": 214,
   "id": "3b605f59",
   "metadata": {},
   "outputs": [],
   "source": [
    "train_df = data.loc[:train_len-1,:]\n",
    "test_df = data.loc[train_len:,:]"
   ]
  },
  {
   "cell_type": "code",
   "execution_count": 215,
   "id": "9b5f79d8",
   "metadata": {},
   "outputs": [
    {
     "data": {
      "text/html": [
       "<div>\n",
       "<style scoped>\n",
       "    .dataframe tbody tr th:only-of-type {\n",
       "        vertical-align: middle;\n",
       "    }\n",
       "\n",
       "    .dataframe tbody tr th {\n",
       "        vertical-align: top;\n",
       "    }\n",
       "\n",
       "    .dataframe thead th {\n",
       "        text-align: right;\n",
       "    }\n",
       "</style>\n",
       "<table border=\"1\" class=\"dataframe\">\n",
       "  <thead>\n",
       "    <tr style=\"text-align: right;\">\n",
       "      <th></th>\n",
       "      <th>Survived</th>\n",
       "      <th>Age</th>\n",
       "      <th>SibSp</th>\n",
       "      <th>Parch</th>\n",
       "      <th>Fare</th>\n",
       "      <th>family_size_0</th>\n",
       "      <th>family_size_1</th>\n",
       "      <th>family_size_2</th>\n",
       "      <th>Fsize_1</th>\n",
       "      <th>Fsize_2</th>\n",
       "      <th>...</th>\n",
       "      <th>Sex_female</th>\n",
       "      <th>Sex_male</th>\n",
       "      <th>Pclass_1</th>\n",
       "      <th>Pclass_2</th>\n",
       "      <th>Pclass_3</th>\n",
       "      <th>Title_Master</th>\n",
       "      <th>Title_Miss</th>\n",
       "      <th>Title_Mr</th>\n",
       "      <th>Title_Mrs</th>\n",
       "      <th>Title_other</th>\n",
       "    </tr>\n",
       "  </thead>\n",
       "  <tbody>\n",
       "    <tr>\n",
       "      <th>881</th>\n",
       "      <td>NaN</td>\n",
       "      <td>34.5</td>\n",
       "      <td>0</td>\n",
       "      <td>0</td>\n",
       "      <td>7.8292</td>\n",
       "      <td>0</td>\n",
       "      <td>1</td>\n",
       "      <td>0</td>\n",
       "      <td>1</td>\n",
       "      <td>0</td>\n",
       "      <td>...</td>\n",
       "      <td>0</td>\n",
       "      <td>1</td>\n",
       "      <td>0</td>\n",
       "      <td>0</td>\n",
       "      <td>1</td>\n",
       "      <td>0</td>\n",
       "      <td>0</td>\n",
       "      <td>1</td>\n",
       "      <td>0</td>\n",
       "      <td>0</td>\n",
       "    </tr>\n",
       "    <tr>\n",
       "      <th>882</th>\n",
       "      <td>NaN</td>\n",
       "      <td>47.0</td>\n",
       "      <td>1</td>\n",
       "      <td>0</td>\n",
       "      <td>7.0000</td>\n",
       "      <td>1</td>\n",
       "      <td>0</td>\n",
       "      <td>0</td>\n",
       "      <td>0</td>\n",
       "      <td>1</td>\n",
       "      <td>...</td>\n",
       "      <td>1</td>\n",
       "      <td>0</td>\n",
       "      <td>0</td>\n",
       "      <td>0</td>\n",
       "      <td>1</td>\n",
       "      <td>0</td>\n",
       "      <td>0</td>\n",
       "      <td>0</td>\n",
       "      <td>1</td>\n",
       "      <td>0</td>\n",
       "    </tr>\n",
       "    <tr>\n",
       "      <th>883</th>\n",
       "      <td>NaN</td>\n",
       "      <td>62.0</td>\n",
       "      <td>0</td>\n",
       "      <td>0</td>\n",
       "      <td>9.6875</td>\n",
       "      <td>0</td>\n",
       "      <td>1</td>\n",
       "      <td>0</td>\n",
       "      <td>1</td>\n",
       "      <td>0</td>\n",
       "      <td>...</td>\n",
       "      <td>0</td>\n",
       "      <td>1</td>\n",
       "      <td>0</td>\n",
       "      <td>1</td>\n",
       "      <td>0</td>\n",
       "      <td>0</td>\n",
       "      <td>0</td>\n",
       "      <td>1</td>\n",
       "      <td>0</td>\n",
       "      <td>0</td>\n",
       "    </tr>\n",
       "    <tr>\n",
       "      <th>884</th>\n",
       "      <td>NaN</td>\n",
       "      <td>27.0</td>\n",
       "      <td>0</td>\n",
       "      <td>0</td>\n",
       "      <td>8.6625</td>\n",
       "      <td>0</td>\n",
       "      <td>1</td>\n",
       "      <td>0</td>\n",
       "      <td>1</td>\n",
       "      <td>0</td>\n",
       "      <td>...</td>\n",
       "      <td>0</td>\n",
       "      <td>1</td>\n",
       "      <td>0</td>\n",
       "      <td>0</td>\n",
       "      <td>1</td>\n",
       "      <td>0</td>\n",
       "      <td>0</td>\n",
       "      <td>1</td>\n",
       "      <td>0</td>\n",
       "      <td>0</td>\n",
       "    </tr>\n",
       "    <tr>\n",
       "      <th>885</th>\n",
       "      <td>NaN</td>\n",
       "      <td>22.0</td>\n",
       "      <td>1</td>\n",
       "      <td>1</td>\n",
       "      <td>12.2875</td>\n",
       "      <td>1</td>\n",
       "      <td>0</td>\n",
       "      <td>0</td>\n",
       "      <td>0</td>\n",
       "      <td>0</td>\n",
       "      <td>...</td>\n",
       "      <td>1</td>\n",
       "      <td>0</td>\n",
       "      <td>0</td>\n",
       "      <td>0</td>\n",
       "      <td>1</td>\n",
       "      <td>0</td>\n",
       "      <td>0</td>\n",
       "      <td>0</td>\n",
       "      <td>1</td>\n",
       "      <td>0</td>\n",
       "    </tr>\n",
       "  </tbody>\n",
       "</table>\n",
       "<p>5 rows × 30 columns</p>\n",
       "</div>"
      ],
      "text/plain": [
       "     Survived   Age  SibSp  Parch     Fare  family_size_0  family_size_1  \\\n",
       "881       NaN  34.5      0      0   7.8292              0              1   \n",
       "882       NaN  47.0      1      0   7.0000              1              0   \n",
       "883       NaN  62.0      0      0   9.6875              0              1   \n",
       "884       NaN  27.0      0      0   8.6625              0              1   \n",
       "885       NaN  22.0      1      1  12.2875              1              0   \n",
       "\n",
       "     family_size_2  Fsize_1  Fsize_2  ...  Sex_female  Sex_male  Pclass_1  \\\n",
       "881              0        1        0  ...           0         1         0   \n",
       "882              0        0        1  ...           1         0         0   \n",
       "883              0        1        0  ...           0         1         0   \n",
       "884              0        1        0  ...           0         1         0   \n",
       "885              0        0        0  ...           1         0         0   \n",
       "\n",
       "     Pclass_2  Pclass_3  Title_Master  Title_Miss  Title_Mr  Title_Mrs  \\\n",
       "881         0         1             0           0         1          0   \n",
       "882         0         1             0           0         0          1   \n",
       "883         1         0             0           0         1          0   \n",
       "884         0         1             0           0         1          0   \n",
       "885         0         1             0           0         0          1   \n",
       "\n",
       "     Title_other  \n",
       "881            0  \n",
       "882            0  \n",
       "883            0  \n",
       "884            0  \n",
       "885            0  \n",
       "\n",
       "[5 rows x 30 columns]"
      ]
     },
     "execution_count": 215,
     "metadata": {},
     "output_type": "execute_result"
    }
   ],
   "source": [
    "test_df.head()"
   ]
  },
  {
   "cell_type": "code",
   "execution_count": 216,
   "id": "a9439209",
   "metadata": {},
   "outputs": [],
   "source": [
    "test_df.drop(\"Survived\",axis=1,inplace = True)"
   ]
  },
  {
   "cell_type": "code",
   "execution_count": 223,
   "id": "f9d8ba1f",
   "metadata": {},
   "outputs": [
    {
     "data": {
      "text/html": [
       "<div>\n",
       "<style scoped>\n",
       "    .dataframe tbody tr th:only-of-type {\n",
       "        vertical-align: middle;\n",
       "    }\n",
       "\n",
       "    .dataframe tbody tr th {\n",
       "        vertical-align: top;\n",
       "    }\n",
       "\n",
       "    .dataframe thead th {\n",
       "        text-align: right;\n",
       "    }\n",
       "</style>\n",
       "<table border=\"1\" class=\"dataframe\">\n",
       "  <thead>\n",
       "    <tr style=\"text-align: right;\">\n",
       "      <th></th>\n",
       "      <th>Age</th>\n",
       "      <th>SibSp</th>\n",
       "      <th>Parch</th>\n",
       "      <th>Fare</th>\n",
       "      <th>family_size_0</th>\n",
       "      <th>family_size_1</th>\n",
       "      <th>family_size_2</th>\n",
       "      <th>Fsize_1</th>\n",
       "      <th>Fsize_2</th>\n",
       "      <th>Fsize_3</th>\n",
       "      <th>...</th>\n",
       "      <th>Sex_female</th>\n",
       "      <th>Sex_male</th>\n",
       "      <th>Pclass_1</th>\n",
       "      <th>Pclass_2</th>\n",
       "      <th>Pclass_3</th>\n",
       "      <th>Title_Master</th>\n",
       "      <th>Title_Miss</th>\n",
       "      <th>Title_Mr</th>\n",
       "      <th>Title_Mrs</th>\n",
       "      <th>Title_other</th>\n",
       "    </tr>\n",
       "  </thead>\n",
       "  <tbody>\n",
       "    <tr>\n",
       "      <th>881</th>\n",
       "      <td>34.5</td>\n",
       "      <td>0</td>\n",
       "      <td>0</td>\n",
       "      <td>7.8292</td>\n",
       "      <td>0</td>\n",
       "      <td>1</td>\n",
       "      <td>0</td>\n",
       "      <td>1</td>\n",
       "      <td>0</td>\n",
       "      <td>0</td>\n",
       "      <td>...</td>\n",
       "      <td>0</td>\n",
       "      <td>1</td>\n",
       "      <td>0</td>\n",
       "      <td>0</td>\n",
       "      <td>1</td>\n",
       "      <td>0</td>\n",
       "      <td>0</td>\n",
       "      <td>1</td>\n",
       "      <td>0</td>\n",
       "      <td>0</td>\n",
       "    </tr>\n",
       "    <tr>\n",
       "      <th>882</th>\n",
       "      <td>47.0</td>\n",
       "      <td>1</td>\n",
       "      <td>0</td>\n",
       "      <td>7.0000</td>\n",
       "      <td>1</td>\n",
       "      <td>0</td>\n",
       "      <td>0</td>\n",
       "      <td>0</td>\n",
       "      <td>1</td>\n",
       "      <td>0</td>\n",
       "      <td>...</td>\n",
       "      <td>1</td>\n",
       "      <td>0</td>\n",
       "      <td>0</td>\n",
       "      <td>0</td>\n",
       "      <td>1</td>\n",
       "      <td>0</td>\n",
       "      <td>0</td>\n",
       "      <td>0</td>\n",
       "      <td>1</td>\n",
       "      <td>0</td>\n",
       "    </tr>\n",
       "    <tr>\n",
       "      <th>883</th>\n",
       "      <td>62.0</td>\n",
       "      <td>0</td>\n",
       "      <td>0</td>\n",
       "      <td>9.6875</td>\n",
       "      <td>0</td>\n",
       "      <td>1</td>\n",
       "      <td>0</td>\n",
       "      <td>1</td>\n",
       "      <td>0</td>\n",
       "      <td>0</td>\n",
       "      <td>...</td>\n",
       "      <td>0</td>\n",
       "      <td>1</td>\n",
       "      <td>0</td>\n",
       "      <td>1</td>\n",
       "      <td>0</td>\n",
       "      <td>0</td>\n",
       "      <td>0</td>\n",
       "      <td>1</td>\n",
       "      <td>0</td>\n",
       "      <td>0</td>\n",
       "    </tr>\n",
       "    <tr>\n",
       "      <th>884</th>\n",
       "      <td>27.0</td>\n",
       "      <td>0</td>\n",
       "      <td>0</td>\n",
       "      <td>8.6625</td>\n",
       "      <td>0</td>\n",
       "      <td>1</td>\n",
       "      <td>0</td>\n",
       "      <td>1</td>\n",
       "      <td>0</td>\n",
       "      <td>0</td>\n",
       "      <td>...</td>\n",
       "      <td>0</td>\n",
       "      <td>1</td>\n",
       "      <td>0</td>\n",
       "      <td>0</td>\n",
       "      <td>1</td>\n",
       "      <td>0</td>\n",
       "      <td>0</td>\n",
       "      <td>1</td>\n",
       "      <td>0</td>\n",
       "      <td>0</td>\n",
       "    </tr>\n",
       "    <tr>\n",
       "      <th>885</th>\n",
       "      <td>22.0</td>\n",
       "      <td>1</td>\n",
       "      <td>1</td>\n",
       "      <td>12.2875</td>\n",
       "      <td>1</td>\n",
       "      <td>0</td>\n",
       "      <td>0</td>\n",
       "      <td>0</td>\n",
       "      <td>0</td>\n",
       "      <td>1</td>\n",
       "      <td>...</td>\n",
       "      <td>1</td>\n",
       "      <td>0</td>\n",
       "      <td>0</td>\n",
       "      <td>0</td>\n",
       "      <td>1</td>\n",
       "      <td>0</td>\n",
       "      <td>0</td>\n",
       "      <td>0</td>\n",
       "      <td>1</td>\n",
       "      <td>0</td>\n",
       "    </tr>\n",
       "  </tbody>\n",
       "</table>\n",
       "<p>5 rows × 29 columns</p>\n",
       "</div>"
      ],
      "text/plain": [
       "      Age  SibSp  Parch     Fare  family_size_0  family_size_1  family_size_2  \\\n",
       "881  34.5      0      0   7.8292              0              1              0   \n",
       "882  47.0      1      0   7.0000              1              0              0   \n",
       "883  62.0      0      0   9.6875              0              1              0   \n",
       "884  27.0      0      0   8.6625              0              1              0   \n",
       "885  22.0      1      1  12.2875              1              0              0   \n",
       "\n",
       "     Fsize_1  Fsize_2  Fsize_3  ...  Sex_female  Sex_male  Pclass_1  Pclass_2  \\\n",
       "881        1        0        0  ...           0         1         0         0   \n",
       "882        0        1        0  ...           1         0         0         0   \n",
       "883        1        0        0  ...           0         1         0         1   \n",
       "884        1        0        0  ...           0         1         0         0   \n",
       "885        0        0        1  ...           1         0         0         0   \n",
       "\n",
       "     Pclass_3  Title_Master  Title_Miss  Title_Mr  Title_Mrs  Title_other  \n",
       "881         1             0           0         1          0            0  \n",
       "882         1             0           0         0          1            0  \n",
       "883         0             0           0         1          0            0  \n",
       "884         1             0           0         1          0            0  \n",
       "885         1             0           0         0          1            0  \n",
       "\n",
       "[5 rows x 29 columns]"
      ]
     },
     "execution_count": 223,
     "metadata": {},
     "output_type": "execute_result"
    }
   ],
   "source": [
    "test_df.head()"
   ]
  },
  {
   "cell_type": "code",
   "execution_count": 224,
   "id": "195b766c",
   "metadata": {},
   "outputs": [
    {
     "data": {
      "text/html": [
       "<div>\n",
       "<style scoped>\n",
       "    .dataframe tbody tr th:only-of-type {\n",
       "        vertical-align: middle;\n",
       "    }\n",
       "\n",
       "    .dataframe tbody tr th {\n",
       "        vertical-align: top;\n",
       "    }\n",
       "\n",
       "    .dataframe thead th {\n",
       "        text-align: right;\n",
       "    }\n",
       "</style>\n",
       "<table border=\"1\" class=\"dataframe\">\n",
       "  <thead>\n",
       "    <tr style=\"text-align: right;\">\n",
       "      <th></th>\n",
       "      <th>Survived</th>\n",
       "      <th>Age</th>\n",
       "      <th>SibSp</th>\n",
       "      <th>Parch</th>\n",
       "      <th>Fare</th>\n",
       "      <th>family_size_0</th>\n",
       "      <th>family_size_1</th>\n",
       "      <th>family_size_2</th>\n",
       "      <th>Fsize_1</th>\n",
       "      <th>Fsize_2</th>\n",
       "      <th>...</th>\n",
       "      <th>Sex_female</th>\n",
       "      <th>Sex_male</th>\n",
       "      <th>Pclass_1</th>\n",
       "      <th>Pclass_2</th>\n",
       "      <th>Pclass_3</th>\n",
       "      <th>Title_Master</th>\n",
       "      <th>Title_Miss</th>\n",
       "      <th>Title_Mr</th>\n",
       "      <th>Title_Mrs</th>\n",
       "      <th>Title_other</th>\n",
       "    </tr>\n",
       "  </thead>\n",
       "  <tbody>\n",
       "    <tr>\n",
       "      <th>0</th>\n",
       "      <td>0.0</td>\n",
       "      <td>22.0</td>\n",
       "      <td>1</td>\n",
       "      <td>0</td>\n",
       "      <td>7.2500</td>\n",
       "      <td>1</td>\n",
       "      <td>0</td>\n",
       "      <td>0</td>\n",
       "      <td>0</td>\n",
       "      <td>1</td>\n",
       "      <td>...</td>\n",
       "      <td>0</td>\n",
       "      <td>1</td>\n",
       "      <td>0</td>\n",
       "      <td>0</td>\n",
       "      <td>1</td>\n",
       "      <td>0</td>\n",
       "      <td>0</td>\n",
       "      <td>1</td>\n",
       "      <td>0</td>\n",
       "      <td>0</td>\n",
       "    </tr>\n",
       "    <tr>\n",
       "      <th>1</th>\n",
       "      <td>1.0</td>\n",
       "      <td>38.0</td>\n",
       "      <td>1</td>\n",
       "      <td>0</td>\n",
       "      <td>71.2833</td>\n",
       "      <td>1</td>\n",
       "      <td>0</td>\n",
       "      <td>0</td>\n",
       "      <td>0</td>\n",
       "      <td>1</td>\n",
       "      <td>...</td>\n",
       "      <td>1</td>\n",
       "      <td>0</td>\n",
       "      <td>1</td>\n",
       "      <td>0</td>\n",
       "      <td>0</td>\n",
       "      <td>0</td>\n",
       "      <td>0</td>\n",
       "      <td>0</td>\n",
       "      <td>1</td>\n",
       "      <td>0</td>\n",
       "    </tr>\n",
       "    <tr>\n",
       "      <th>2</th>\n",
       "      <td>1.0</td>\n",
       "      <td>26.0</td>\n",
       "      <td>0</td>\n",
       "      <td>0</td>\n",
       "      <td>7.9250</td>\n",
       "      <td>0</td>\n",
       "      <td>1</td>\n",
       "      <td>0</td>\n",
       "      <td>1</td>\n",
       "      <td>0</td>\n",
       "      <td>...</td>\n",
       "      <td>1</td>\n",
       "      <td>0</td>\n",
       "      <td>0</td>\n",
       "      <td>0</td>\n",
       "      <td>1</td>\n",
       "      <td>0</td>\n",
       "      <td>1</td>\n",
       "      <td>0</td>\n",
       "      <td>0</td>\n",
       "      <td>0</td>\n",
       "    </tr>\n",
       "    <tr>\n",
       "      <th>3</th>\n",
       "      <td>1.0</td>\n",
       "      <td>35.0</td>\n",
       "      <td>1</td>\n",
       "      <td>0</td>\n",
       "      <td>53.1000</td>\n",
       "      <td>1</td>\n",
       "      <td>0</td>\n",
       "      <td>0</td>\n",
       "      <td>0</td>\n",
       "      <td>1</td>\n",
       "      <td>...</td>\n",
       "      <td>1</td>\n",
       "      <td>0</td>\n",
       "      <td>1</td>\n",
       "      <td>0</td>\n",
       "      <td>0</td>\n",
       "      <td>0</td>\n",
       "      <td>0</td>\n",
       "      <td>0</td>\n",
       "      <td>1</td>\n",
       "      <td>0</td>\n",
       "    </tr>\n",
       "    <tr>\n",
       "      <th>4</th>\n",
       "      <td>0.0</td>\n",
       "      <td>35.0</td>\n",
       "      <td>0</td>\n",
       "      <td>0</td>\n",
       "      <td>8.0500</td>\n",
       "      <td>0</td>\n",
       "      <td>1</td>\n",
       "      <td>0</td>\n",
       "      <td>1</td>\n",
       "      <td>0</td>\n",
       "      <td>...</td>\n",
       "      <td>0</td>\n",
       "      <td>1</td>\n",
       "      <td>0</td>\n",
       "      <td>0</td>\n",
       "      <td>1</td>\n",
       "      <td>0</td>\n",
       "      <td>0</td>\n",
       "      <td>1</td>\n",
       "      <td>0</td>\n",
       "      <td>0</td>\n",
       "    </tr>\n",
       "  </tbody>\n",
       "</table>\n",
       "<p>5 rows × 30 columns</p>\n",
       "</div>"
      ],
      "text/plain": [
       "   Survived   Age  SibSp  Parch     Fare  family_size_0  family_size_1  \\\n",
       "0       0.0  22.0      1      0   7.2500              1              0   \n",
       "1       1.0  38.0      1      0  71.2833              1              0   \n",
       "2       1.0  26.0      0      0   7.9250              0              1   \n",
       "3       1.0  35.0      1      0  53.1000              1              0   \n",
       "4       0.0  35.0      0      0   8.0500              0              1   \n",
       "\n",
       "   family_size_2  Fsize_1  Fsize_2  ...  Sex_female  Sex_male  Pclass_1  \\\n",
       "0              0        0        1  ...           0         1         0   \n",
       "1              0        0        1  ...           1         0         1   \n",
       "2              0        1        0  ...           1         0         0   \n",
       "3              0        0        1  ...           1         0         1   \n",
       "4              0        1        0  ...           0         1         0   \n",
       "\n",
       "   Pclass_2  Pclass_3  Title_Master  Title_Miss  Title_Mr  Title_Mrs  \\\n",
       "0         0         1             0           0         1          0   \n",
       "1         0         0             0           0         0          1   \n",
       "2         0         1             0           1         0          0   \n",
       "3         0         0             0           0         0          1   \n",
       "4         0         1             0           0         1          0   \n",
       "\n",
       "   Title_other  \n",
       "0            0  \n",
       "1            0  \n",
       "2            0  \n",
       "3            0  \n",
       "4            0  \n",
       "\n",
       "[5 rows x 30 columns]"
      ]
     },
     "execution_count": 224,
     "metadata": {},
     "output_type": "execute_result"
    }
   ],
   "source": [
    "train_df.head()"
   ]
  },
  {
   "cell_type": "code",
   "execution_count": 225,
   "id": "36ba93c8",
   "metadata": {},
   "outputs": [],
   "source": [
    "y = train_df.Survived"
   ]
  },
  {
   "cell_type": "code",
   "execution_count": 226,
   "id": "18086115",
   "metadata": {},
   "outputs": [],
   "source": [
    "x = train_df.drop([\"Survived\"],axis=1)"
   ]
  },
  {
   "cell_type": "code",
   "execution_count": 227,
   "id": "c5f862f6",
   "metadata": {},
   "outputs": [
    {
     "data": {
      "text/plain": [
       "0    0.0\n",
       "1    1.0\n",
       "2    1.0\n",
       "3    1.0\n",
       "4    0.0\n",
       "Name: Survived, dtype: float64"
      ]
     },
     "execution_count": 227,
     "metadata": {},
     "output_type": "execute_result"
    }
   ],
   "source": [
    "y.head()"
   ]
  },
  {
   "cell_type": "code",
   "execution_count": 228,
   "id": "ba0a3d98",
   "metadata": {},
   "outputs": [
    {
     "data": {
      "text/plain": [
       "(881, 29)"
      ]
     },
     "execution_count": 228,
     "metadata": {},
     "output_type": "execute_result"
    }
   ],
   "source": [
    "x.shape"
   ]
  },
  {
   "cell_type": "code",
   "execution_count": 229,
   "id": "36fce408",
   "metadata": {},
   "outputs": [
    {
     "data": {
      "text/html": [
       "<div>\n",
       "<style scoped>\n",
       "    .dataframe tbody tr th:only-of-type {\n",
       "        vertical-align: middle;\n",
       "    }\n",
       "\n",
       "    .dataframe tbody tr th {\n",
       "        vertical-align: top;\n",
       "    }\n",
       "\n",
       "    .dataframe thead th {\n",
       "        text-align: right;\n",
       "    }\n",
       "</style>\n",
       "<table border=\"1\" class=\"dataframe\">\n",
       "  <thead>\n",
       "    <tr style=\"text-align: right;\">\n",
       "      <th></th>\n",
       "      <th>Age</th>\n",
       "      <th>SibSp</th>\n",
       "      <th>Parch</th>\n",
       "      <th>Fare</th>\n",
       "      <th>family_size_0</th>\n",
       "      <th>family_size_1</th>\n",
       "      <th>family_size_2</th>\n",
       "      <th>Fsize_1</th>\n",
       "      <th>Fsize_2</th>\n",
       "      <th>Fsize_3</th>\n",
       "      <th>...</th>\n",
       "      <th>Sex_female</th>\n",
       "      <th>Sex_male</th>\n",
       "      <th>Pclass_1</th>\n",
       "      <th>Pclass_2</th>\n",
       "      <th>Pclass_3</th>\n",
       "      <th>Title_Master</th>\n",
       "      <th>Title_Miss</th>\n",
       "      <th>Title_Mr</th>\n",
       "      <th>Title_Mrs</th>\n",
       "      <th>Title_other</th>\n",
       "    </tr>\n",
       "  </thead>\n",
       "  <tbody>\n",
       "    <tr>\n",
       "      <th>0</th>\n",
       "      <td>22.0</td>\n",
       "      <td>1</td>\n",
       "      <td>0</td>\n",
       "      <td>7.2500</td>\n",
       "      <td>1</td>\n",
       "      <td>0</td>\n",
       "      <td>0</td>\n",
       "      <td>0</td>\n",
       "      <td>1</td>\n",
       "      <td>0</td>\n",
       "      <td>...</td>\n",
       "      <td>0</td>\n",
       "      <td>1</td>\n",
       "      <td>0</td>\n",
       "      <td>0</td>\n",
       "      <td>1</td>\n",
       "      <td>0</td>\n",
       "      <td>0</td>\n",
       "      <td>1</td>\n",
       "      <td>0</td>\n",
       "      <td>0</td>\n",
       "    </tr>\n",
       "    <tr>\n",
       "      <th>1</th>\n",
       "      <td>38.0</td>\n",
       "      <td>1</td>\n",
       "      <td>0</td>\n",
       "      <td>71.2833</td>\n",
       "      <td>1</td>\n",
       "      <td>0</td>\n",
       "      <td>0</td>\n",
       "      <td>0</td>\n",
       "      <td>1</td>\n",
       "      <td>0</td>\n",
       "      <td>...</td>\n",
       "      <td>1</td>\n",
       "      <td>0</td>\n",
       "      <td>1</td>\n",
       "      <td>0</td>\n",
       "      <td>0</td>\n",
       "      <td>0</td>\n",
       "      <td>0</td>\n",
       "      <td>0</td>\n",
       "      <td>1</td>\n",
       "      <td>0</td>\n",
       "    </tr>\n",
       "    <tr>\n",
       "      <th>2</th>\n",
       "      <td>26.0</td>\n",
       "      <td>0</td>\n",
       "      <td>0</td>\n",
       "      <td>7.9250</td>\n",
       "      <td>0</td>\n",
       "      <td>1</td>\n",
       "      <td>0</td>\n",
       "      <td>1</td>\n",
       "      <td>0</td>\n",
       "      <td>0</td>\n",
       "      <td>...</td>\n",
       "      <td>1</td>\n",
       "      <td>0</td>\n",
       "      <td>0</td>\n",
       "      <td>0</td>\n",
       "      <td>1</td>\n",
       "      <td>0</td>\n",
       "      <td>1</td>\n",
       "      <td>0</td>\n",
       "      <td>0</td>\n",
       "      <td>0</td>\n",
       "    </tr>\n",
       "    <tr>\n",
       "      <th>3</th>\n",
       "      <td>35.0</td>\n",
       "      <td>1</td>\n",
       "      <td>0</td>\n",
       "      <td>53.1000</td>\n",
       "      <td>1</td>\n",
       "      <td>0</td>\n",
       "      <td>0</td>\n",
       "      <td>0</td>\n",
       "      <td>1</td>\n",
       "      <td>0</td>\n",
       "      <td>...</td>\n",
       "      <td>1</td>\n",
       "      <td>0</td>\n",
       "      <td>1</td>\n",
       "      <td>0</td>\n",
       "      <td>0</td>\n",
       "      <td>0</td>\n",
       "      <td>0</td>\n",
       "      <td>0</td>\n",
       "      <td>1</td>\n",
       "      <td>0</td>\n",
       "    </tr>\n",
       "    <tr>\n",
       "      <th>4</th>\n",
       "      <td>35.0</td>\n",
       "      <td>0</td>\n",
       "      <td>0</td>\n",
       "      <td>8.0500</td>\n",
       "      <td>0</td>\n",
       "      <td>1</td>\n",
       "      <td>0</td>\n",
       "      <td>1</td>\n",
       "      <td>0</td>\n",
       "      <td>0</td>\n",
       "      <td>...</td>\n",
       "      <td>0</td>\n",
       "      <td>1</td>\n",
       "      <td>0</td>\n",
       "      <td>0</td>\n",
       "      <td>1</td>\n",
       "      <td>0</td>\n",
       "      <td>0</td>\n",
       "      <td>1</td>\n",
       "      <td>0</td>\n",
       "      <td>0</td>\n",
       "    </tr>\n",
       "  </tbody>\n",
       "</table>\n",
       "<p>5 rows × 29 columns</p>\n",
       "</div>"
      ],
      "text/plain": [
       "    Age  SibSp  Parch     Fare  family_size_0  family_size_1  family_size_2  \\\n",
       "0  22.0      1      0   7.2500              1              0              0   \n",
       "1  38.0      1      0  71.2833              1              0              0   \n",
       "2  26.0      0      0   7.9250              0              1              0   \n",
       "3  35.0      1      0  53.1000              1              0              0   \n",
       "4  35.0      0      0   8.0500              0              1              0   \n",
       "\n",
       "   Fsize_1  Fsize_2  Fsize_3  ...  Sex_female  Sex_male  Pclass_1  Pclass_2  \\\n",
       "0        0        1        0  ...           0         1         0         0   \n",
       "1        0        1        0  ...           1         0         1         0   \n",
       "2        1        0        0  ...           1         0         0         0   \n",
       "3        0        1        0  ...           1         0         1         0   \n",
       "4        1        0        0  ...           0         1         0         0   \n",
       "\n",
       "   Pclass_3  Title_Master  Title_Miss  Title_Mr  Title_Mrs  Title_other  \n",
       "0         1             0           0         1          0            0  \n",
       "1         0             0           0         0          1            0  \n",
       "2         1             0           1         0          0            0  \n",
       "3         0             0           0         0          1            0  \n",
       "4         1             0           0         1          0            0  \n",
       "\n",
       "[5 rows x 29 columns]"
      ]
     },
     "execution_count": 229,
     "metadata": {},
     "output_type": "execute_result"
    }
   ],
   "source": [
    "x.head()"
   ]
  },
  {
   "cell_type": "code",
   "execution_count": 230,
   "id": "aa1fd18d",
   "metadata": {},
   "outputs": [],
   "source": [
    "x_train, x_test, y_train, y_test = train_test_split(x,y,test_size=0.25,random_state=42)"
   ]
  },
  {
   "cell_type": "code",
   "execution_count": 231,
   "id": "eefa0de8",
   "metadata": {},
   "outputs": [
    {
     "name": "stdout",
     "output_type": "stream",
     "text": [
      "Training Accuracy: % 82.58\n",
      "Testing Accuracy: % 83.26\n"
     ]
    }
   ],
   "source": [
    "logreg = LogisticRegression()\n",
    "logreg.fit(x_train, y_train)\n",
    "acc_log_train = round(logreg.score(x_train, y_train)*100,2) \n",
    "acc_log_test = round(logreg.score(x_test,y_test)*100,2)\n",
    "print(\"Training Accuracy: % {}\".format(acc_log_train))\n",
    "print(\"Testing Accuracy: % {}\".format(acc_log_test))"
   ]
  },
  {
   "cell_type": "markdown",
   "id": "8e4a432d",
   "metadata": {},
   "source": [
    "### Hyperparameter Tuning -- Grid Search -- Cross Validation"
   ]
  },
  {
   "cell_type": "raw",
   "id": "e888ea03",
   "metadata": {},
   "source": [
    "5 makine öğrenmesi algoritmasını birlikte çalıştırcaz ."
   ]
  },
  {
   "cell_type": "raw",
   "id": "a12a8c26",
   "metadata": {},
   "source": [
    "Decision Tree\n",
    "SVM\n",
    "Random Forest\n",
    "KNN\n",
    "Logistic Regression"
   ]
  },
  {
   "cell_type": "raw",
   "id": "cea84f1c",
   "metadata": {},
   "source": [
    "Tuning paramters"
   ]
  },
  {
   "cell_type": "code",
   "execution_count": 232,
   "id": "d63576a1",
   "metadata": {},
   "outputs": [],
   "source": [
    "random_state = 42\n",
    "\n",
    "classifier = [DecisionTreeClassifier(random_state=random_state),\n",
    "             SVC(random_state=random_state,probability=True),\n",
    "             RandomForestClassifier(random_state=random_state),\n",
    "             LogisticRegression(random_state=random_state),\n",
    "             KNeighborsClassifier()]\n",
    "\n",
    "dt_param_grid = {\"min_samples_split\" : range(10,500,20),\n",
    "                \"max_depth\": range(1,20,2)}\n",
    "\n",
    "svc_param_grid = {\"kernel\" : [\"rbf\"],\n",
    "                 \"gamma\": [0.001, 0.01, 0.1, 1],\n",
    "                 \"C\": [1,10,50,100,200,300,1000]\n",
    "                 }\n",
    "\n",
    "rf_param_grid = {\"max_features\": [1,3,10],\n",
    "                \"min_samples_split\":[2,3,10],\n",
    "                \"min_samples_leaf\":[1,3,10],\n",
    "                \"bootstrap\":[False],\n",
    "                \"n_estimators\":[100,300],\n",
    "                \"criterion\":[\"gini\"]}\n",
    "\n",
    "logreg_param_grid = {\"C\":np.logspace(-3,3,7),\n",
    "                    \"penalty\": [\"l1\",\"l2\"]}\n",
    "\n",
    "knn_param_grid = {\"n_neighbors\": np.linspace(1,19,10, dtype = int).tolist(),\n",
    "                 \"weights\": [\"uniform\",\"distance\"],\n",
    "                 \"metric\":[\"euclidean\",\"manhattan\"]}\n",
    "classifier_param = [dt_param_grid,\n",
    "                   svc_param_grid,\n",
    "                   rf_param_grid,\n",
    "                   logreg_param_grid,\n",
    "                   knn_param_grid]"
   ]
  },
  {
   "cell_type": "code",
   "execution_count": 233,
   "id": "0de18b7a",
   "metadata": {},
   "outputs": [],
   "source": [
    "from sklearn.ensemble import VotingClassifier\n",
    "from sklearn.model_selection import StratifiedKFold"
   ]
  },
  {
   "cell_type": "code",
   "execution_count": 234,
   "id": "e4a07d3e",
   "metadata": {},
   "outputs": [
    {
     "name": "stdout",
     "output_type": "stream",
     "text": [
      "Fitting 10 folds for each of 250 candidates, totalling 2500 fits\n",
      "0.8242424242424242\n",
      "Fitting 10 folds for each of 28 candidates, totalling 280 fits\n",
      "0.8121212121212121\n",
      "Fitting 10 folds for each of 54 candidates, totalling 540 fits\n",
      "0.8424242424242424\n",
      "Fitting 10 folds for each of 14 candidates, totalling 140 fits\n",
      "0.8166666666666667\n",
      "Fitting 10 folds for each of 40 candidates, totalling 400 fits\n",
      "0.7787878787878788\n",
      "25.216841459274292\n"
     ]
    }
   ],
   "source": [
    "import time\n",
    "times = time.time()\n",
    "cv_result = []\n",
    "best_estimators = []\n",
    "for i in range(len(classifier)):\n",
    "    clf = GridSearchCV(classifier[i], param_grid=classifier_param[i], \n",
    "        cv = StratifiedKFold(n_splits = 10), scoring = \"accuracy\", \n",
    "        n_jobs = -1,verbose = 1)\n",
    "    clf.fit(x_train,y_train)\n",
    "    cv_result.append(clf.best_score_)\n",
    "    best_estimators.append(clf.best_estimator_)\n",
    "    print(cv_result[i])\n",
    "print(time.time()-times)  "
   ]
  },
  {
   "cell_type": "code",
   "execution_count": 235,
   "id": "e5d5557d",
   "metadata": {},
   "outputs": [
    {
     "ename": "AttributeError",
     "evalue": "module 'matplotlib.pyplot' has no attribute 'set_ylabels'",
     "output_type": "error",
     "traceback": [
      "\u001b[1;31m---------------------------------------------------------------------------\u001b[0m",
      "\u001b[1;31mAttributeError\u001b[0m                            Traceback (most recent call last)",
      "Cell \u001b[1;32mIn[235], line 7\u001b[0m\n\u001b[0;32m      5\u001b[0m g \u001b[38;5;241m=\u001b[39m sns\u001b[38;5;241m.\u001b[39mcatplot(x\u001b[38;5;241m=\u001b[39m\u001b[38;5;124m\"\u001b[39m\u001b[38;5;124mCross Validation Means\u001b[39m\u001b[38;5;124m\"\u001b[39m, y\u001b[38;5;241m=\u001b[39m \u001b[38;5;124m\"\u001b[39m\u001b[38;5;124mML Models\u001b[39m\u001b[38;5;124m\"\u001b[39m, data \u001b[38;5;241m=\u001b[39m cv_results,kind\u001b[38;5;241m=\u001b[39m\u001b[38;5;124m\"\u001b[39m\u001b[38;5;124mbar\u001b[39m\u001b[38;5;124m\"\u001b[39m)\n\u001b[0;32m      6\u001b[0m \u001b[38;5;66;03m#g.set_xlabel(\"Mean Accuracy\")\u001b[39;00m\n\u001b[1;32m----> 7\u001b[0m plt\u001b[38;5;241m.\u001b[39mset_ylabels(\u001b[38;5;124m\"\u001b[39m\u001b[38;5;124mCross Validation Scores\u001b[39m\u001b[38;5;124m\"\u001b[39m)\n\u001b[0;32m      8\u001b[0m plt\u001b[38;5;241m.\u001b[39mshow()\n",
      "\u001b[1;31mAttributeError\u001b[0m: module 'matplotlib.pyplot' has no attribute 'set_ylabels'"
     ]
    },
    {
     "data": {
      "image/png": "[encoded data removed]",
      "text/plain": [
       "<Figure size 500x500 with 1 Axes>"
      ]
     },
     "metadata": {},
     "output_type": "display_data"
    }
   ],
   "source": [
    "cv_results = pd.DataFrame({\"Cross Validation Means\":cv_result, \"ML Models\":[\"DecisionTreeClassifier\", \"SVM\",\"RandomForestClassifier\",\n",
    "             \"LogisticRegression\",\n",
    "             \"KNeighborsClassifier\"]})\n",
    "\n",
    "g = sns.catplot(x=\"Cross Validation Means\", y= \"ML Models\", data = cv_results,kind=\"bar\")\n",
    "#g.set_xlabel(\"Mean Accuracy\")\n",
    "plt.set_ylabels(\"Cross Validation Scores\")\n",
    "plt.show()"
   ]
  },
  {
   "cell_type": "code",
   "execution_count": 236,
   "id": "6b7a57be",
   "metadata": {},
   "outputs": [],
   "source": [
    "votingC = VotingClassifier(estimators=[(\"dt\",best_estimators[0]),\n",
    "                                       (\"svc\",best_estimators[1]),\n",
    "                                        (\"rfc\",best_estimators[2]),\n",
    "                                        (\"lr\",best_estimators[3])],\n",
    "                                        voting = \"soft\", n_jobs = -1)"
   ]
  },
  {
   "cell_type": "code",
   "execution_count": 237,
   "id": "e41fbebc",
   "metadata": {},
   "outputs": [
    {
     "name": "stdout",
     "output_type": "stream",
     "text": [
      "0.3278517723083496\n"
     ]
    }
   ],
   "source": [
    "times = time.time()\n",
    "votingC = votingC.fit(x_train,y_train)\n",
    "print(time.time()-times)"
   ]
  },
  {
   "cell_type": "code",
   "execution_count": 238,
   "id": "28cdfcb4",
   "metadata": {},
   "outputs": [
    {
     "name": "stdout",
     "output_type": "stream",
     "text": [
      "0.8371040723981901\n"
     ]
    }
   ],
   "source": [
    "print(accuracy_score(votingC.predict(x_test),y_test))"
   ]
  },
  {
   "cell_type": "markdown",
   "id": "8c51371d",
   "metadata": {},
   "source": [
    "# Prediction and Submission"
   ]
  },
  {
   "cell_type": "code",
   "execution_count": 239,
   "id": "f767a5bf",
   "metadata": {},
   "outputs": [],
   "source": [
    "test_survived = pd.Series(votingC.predict(test_df), name = \"Survived\").astype(int)\n",
    "results = pd.concat([test_survived],axis = 1)\n",
    "results.to_csv(\"titanic.csv\", index = False)"
   ]
  },
  {
   "cell_type": "code",
   "execution_count": 240,
   "id": "72a20793",
   "metadata": {},
   "outputs": [
    {
     "data": {
      "text/html": [
       "<div>\n",
       "<style scoped>\n",
       "    .dataframe tbody tr th:only-of-type {\n",
       "        vertical-align: middle;\n",
       "    }\n",
       "\n",
       "    .dataframe tbody tr th {\n",
       "        vertical-align: top;\n",
       "    }\n",
       "\n",
       "    .dataframe thead th {\n",
       "        text-align: right;\n",
       "    }\n",
       "</style>\n",
       "<table border=\"1\" class=\"dataframe\">\n",
       "  <thead>\n",
       "    <tr style=\"text-align: right;\">\n",
       "      <th></th>\n",
       "      <th>Age</th>\n",
       "      <th>SibSp</th>\n",
       "      <th>Parch</th>\n",
       "      <th>Fare</th>\n",
       "      <th>family_size_0</th>\n",
       "      <th>family_size_1</th>\n",
       "      <th>family_size_2</th>\n",
       "      <th>Fsize_1</th>\n",
       "      <th>Fsize_2</th>\n",
       "      <th>Fsize_3</th>\n",
       "      <th>...</th>\n",
       "      <th>Sex_female</th>\n",
       "      <th>Sex_male</th>\n",
       "      <th>Pclass_1</th>\n",
       "      <th>Pclass_2</th>\n",
       "      <th>Pclass_3</th>\n",
       "      <th>Title_Master</th>\n",
       "      <th>Title_Miss</th>\n",
       "      <th>Title_Mr</th>\n",
       "      <th>Title_Mrs</th>\n",
       "      <th>Title_other</th>\n",
       "    </tr>\n",
       "  </thead>\n",
       "  <tbody>\n",
       "    <tr>\n",
       "      <th>0</th>\n",
       "      <td>22.0</td>\n",
       "      <td>1</td>\n",
       "      <td>0</td>\n",
       "      <td>7.2500</td>\n",
       "      <td>1</td>\n",
       "      <td>0</td>\n",
       "      <td>0</td>\n",
       "      <td>0</td>\n",
       "      <td>1</td>\n",
       "      <td>0</td>\n",
       "      <td>...</td>\n",
       "      <td>0</td>\n",
       "      <td>1</td>\n",
       "      <td>0</td>\n",
       "      <td>0</td>\n",
       "      <td>1</td>\n",
       "      <td>0</td>\n",
       "      <td>0</td>\n",
       "      <td>1</td>\n",
       "      <td>0</td>\n",
       "      <td>0</td>\n",
       "    </tr>\n",
       "    <tr>\n",
       "      <th>1</th>\n",
       "      <td>38.0</td>\n",
       "      <td>1</td>\n",
       "      <td>0</td>\n",
       "      <td>71.2833</td>\n",
       "      <td>1</td>\n",
       "      <td>0</td>\n",
       "      <td>0</td>\n",
       "      <td>0</td>\n",
       "      <td>1</td>\n",
       "      <td>0</td>\n",
       "      <td>...</td>\n",
       "      <td>1</td>\n",
       "      <td>0</td>\n",
       "      <td>1</td>\n",
       "      <td>0</td>\n",
       "      <td>0</td>\n",
       "      <td>0</td>\n",
       "      <td>0</td>\n",
       "      <td>0</td>\n",
       "      <td>1</td>\n",
       "      <td>0</td>\n",
       "    </tr>\n",
       "    <tr>\n",
       "      <th>2</th>\n",
       "      <td>26.0</td>\n",
       "      <td>0</td>\n",
       "      <td>0</td>\n",
       "      <td>7.9250</td>\n",
       "      <td>0</td>\n",
       "      <td>1</td>\n",
       "      <td>0</td>\n",
       "      <td>1</td>\n",
       "      <td>0</td>\n",
       "      <td>0</td>\n",
       "      <td>...</td>\n",
       "      <td>1</td>\n",
       "      <td>0</td>\n",
       "      <td>0</td>\n",
       "      <td>0</td>\n",
       "      <td>1</td>\n",
       "      <td>0</td>\n",
       "      <td>1</td>\n",
       "      <td>0</td>\n",
       "      <td>0</td>\n",
       "      <td>0</td>\n",
       "    </tr>\n",
       "    <tr>\n",
       "      <th>3</th>\n",
       "      <td>35.0</td>\n",
       "      <td>1</td>\n",
       "      <td>0</td>\n",
       "      <td>53.1000</td>\n",
       "      <td>1</td>\n",
       "      <td>0</td>\n",
       "      <td>0</td>\n",
       "      <td>0</td>\n",
       "      <td>1</td>\n",
       "      <td>0</td>\n",
       "      <td>...</td>\n",
       "      <td>1</td>\n",
       "      <td>0</td>\n",
       "      <td>1</td>\n",
       "      <td>0</td>\n",
       "      <td>0</td>\n",
       "      <td>0</td>\n",
       "      <td>0</td>\n",
       "      <td>0</td>\n",
       "      <td>1</td>\n",
       "      <td>0</td>\n",
       "    </tr>\n",
       "    <tr>\n",
       "      <th>4</th>\n",
       "      <td>35.0</td>\n",
       "      <td>0</td>\n",
       "      <td>0</td>\n",
       "      <td>8.0500</td>\n",
       "      <td>0</td>\n",
       "      <td>1</td>\n",
       "      <td>0</td>\n",
       "      <td>1</td>\n",
       "      <td>0</td>\n",
       "      <td>0</td>\n",
       "      <td>...</td>\n",
       "      <td>0</td>\n",
       "      <td>1</td>\n",
       "      <td>0</td>\n",
       "      <td>0</td>\n",
       "      <td>1</td>\n",
       "      <td>0</td>\n",
       "      <td>0</td>\n",
       "      <td>1</td>\n",
       "      <td>0</td>\n",
       "      <td>0</td>\n",
       "    </tr>\n",
       "  </tbody>\n",
       "</table>\n",
       "<p>5 rows × 29 columns</p>\n",
       "</div>"
      ],
      "text/plain": [
       "    Age  SibSp  Parch     Fare  family_size_0  family_size_1  family_size_2  \\\n",
       "0  22.0      1      0   7.2500              1              0              0   \n",
       "1  38.0      1      0  71.2833              1              0              0   \n",
       "2  26.0      0      0   7.9250              0              1              0   \n",
       "3  35.0      1      0  53.1000              1              0              0   \n",
       "4  35.0      0      0   8.0500              0              1              0   \n",
       "\n",
       "   Fsize_1  Fsize_2  Fsize_3  ...  Sex_female  Sex_male  Pclass_1  Pclass_2  \\\n",
       "0        0        1        0  ...           0         1         0         0   \n",
       "1        0        1        0  ...           1         0         1         0   \n",
       "2        1        0        0  ...           1         0         0         0   \n",
       "3        0        1        0  ...           1         0         1         0   \n",
       "4        1        0        0  ...           0         1         0         0   \n",
       "\n",
       "   Pclass_3  Title_Master  Title_Miss  Title_Mr  Title_Mrs  Title_other  \n",
       "0         1             0           0         1          0            0  \n",
       "1         0             0           0         0          1            0  \n",
       "2         1             0           1         0          0            0  \n",
       "3         0             0           0         0          1            0  \n",
       "4         1             0           0         1          0            0  \n",
       "\n",
       "[5 rows x 29 columns]"
      ]
     },
     "execution_count": 240,
     "metadata": {},
     "output_type": "execute_result"
    }
   ],
   "source": [
    "from sklearn.preprocessing import StandardScaler\n",
    "std = StandardScaler()\n",
    "x.head()"
   ]
  },
  {
   "cell_type": "raw",
   "id": "66bd2590",
   "metadata": {},
   "source": [
    "Age ve Fare standardizasyona sokacağım"
   ]
  },
  {
   "cell_type": "code",
   "execution_count": 241,
   "id": "8501e310",
   "metadata": {},
   "outputs": [],
   "source": [
    "x[[\"Age\",\"Fare\"]] = std.fit_transform(x[[\"Age\",\"Fare\"]])"
   ]
  },
  {
   "cell_type": "code",
   "execution_count": 242,
   "id": "d4686c09",
   "metadata": {},
   "outputs": [
    {
     "data": {
      "text/html": [
       "<div>\n",
       "<style scoped>\n",
       "    .dataframe tbody tr th:only-of-type {\n",
       "        vertical-align: middle;\n",
       "    }\n",
       "\n",
       "    .dataframe tbody tr th {\n",
       "        vertical-align: top;\n",
       "    }\n",
       "\n",
       "    .dataframe thead th {\n",
       "        text-align: right;\n",
       "    }\n",
       "</style>\n",
       "<table border=\"1\" class=\"dataframe\">\n",
       "  <thead>\n",
       "    <tr style=\"text-align: right;\">\n",
       "      <th></th>\n",
       "      <th>Age</th>\n",
       "      <th>SibSp</th>\n",
       "      <th>Parch</th>\n",
       "      <th>Fare</th>\n",
       "      <th>family_size_0</th>\n",
       "      <th>family_size_1</th>\n",
       "      <th>family_size_2</th>\n",
       "      <th>Fsize_1</th>\n",
       "      <th>Fsize_2</th>\n",
       "      <th>Fsize_3</th>\n",
       "      <th>...</th>\n",
       "      <th>Sex_female</th>\n",
       "      <th>Sex_male</th>\n",
       "      <th>Pclass_1</th>\n",
       "      <th>Pclass_2</th>\n",
       "      <th>Pclass_3</th>\n",
       "      <th>Title_Master</th>\n",
       "      <th>Title_Miss</th>\n",
       "      <th>Title_Mr</th>\n",
       "      <th>Title_Mrs</th>\n",
       "      <th>Title_other</th>\n",
       "    </tr>\n",
       "  </thead>\n",
       "  <tbody>\n",
       "    <tr>\n",
       "      <th>0</th>\n",
       "      <td>-0.536933</td>\n",
       "      <td>1</td>\n",
       "      <td>0</td>\n",
       "      <td>-0.497646</td>\n",
       "      <td>1</td>\n",
       "      <td>0</td>\n",
       "      <td>0</td>\n",
       "      <td>0</td>\n",
       "      <td>1</td>\n",
       "      <td>0</td>\n",
       "      <td>...</td>\n",
       "      <td>0</td>\n",
       "      <td>1</td>\n",
       "      <td>0</td>\n",
       "      <td>0</td>\n",
       "      <td>1</td>\n",
       "      <td>0</td>\n",
       "      <td>0</td>\n",
       "      <td>1</td>\n",
       "      <td>0</td>\n",
       "      <td>0</td>\n",
       "    </tr>\n",
       "    <tr>\n",
       "      <th>1</th>\n",
       "      <td>0.655787</td>\n",
       "      <td>1</td>\n",
       "      <td>0</td>\n",
       "      <td>0.837243</td>\n",
       "      <td>1</td>\n",
       "      <td>0</td>\n",
       "      <td>0</td>\n",
       "      <td>0</td>\n",
       "      <td>1</td>\n",
       "      <td>0</td>\n",
       "      <td>...</td>\n",
       "      <td>1</td>\n",
       "      <td>0</td>\n",
       "      <td>1</td>\n",
       "      <td>0</td>\n",
       "      <td>0</td>\n",
       "      <td>0</td>\n",
       "      <td>0</td>\n",
       "      <td>0</td>\n",
       "      <td>1</td>\n",
       "      <td>0</td>\n",
       "    </tr>\n",
       "    <tr>\n",
       "      <th>2</th>\n",
       "      <td>-0.238753</td>\n",
       "      <td>0</td>\n",
       "      <td>0</td>\n",
       "      <td>-0.483574</td>\n",
       "      <td>0</td>\n",
       "      <td>1</td>\n",
       "      <td>0</td>\n",
       "      <td>1</td>\n",
       "      <td>0</td>\n",
       "      <td>0</td>\n",
       "      <td>...</td>\n",
       "      <td>1</td>\n",
       "      <td>0</td>\n",
       "      <td>0</td>\n",
       "      <td>0</td>\n",
       "      <td>1</td>\n",
       "      <td>0</td>\n",
       "      <td>1</td>\n",
       "      <td>0</td>\n",
       "      <td>0</td>\n",
       "      <td>0</td>\n",
       "    </tr>\n",
       "    <tr>\n",
       "      <th>3</th>\n",
       "      <td>0.432152</td>\n",
       "      <td>1</td>\n",
       "      <td>0</td>\n",
       "      <td>0.458180</td>\n",
       "      <td>1</td>\n",
       "      <td>0</td>\n",
       "      <td>0</td>\n",
       "      <td>0</td>\n",
       "      <td>1</td>\n",
       "      <td>0</td>\n",
       "      <td>...</td>\n",
       "      <td>1</td>\n",
       "      <td>0</td>\n",
       "      <td>1</td>\n",
       "      <td>0</td>\n",
       "      <td>0</td>\n",
       "      <td>0</td>\n",
       "      <td>0</td>\n",
       "      <td>0</td>\n",
       "      <td>1</td>\n",
       "      <td>0</td>\n",
       "    </tr>\n",
       "    <tr>\n",
       "      <th>4</th>\n",
       "      <td>0.432152</td>\n",
       "      <td>0</td>\n",
       "      <td>0</td>\n",
       "      <td>-0.480968</td>\n",
       "      <td>0</td>\n",
       "      <td>1</td>\n",
       "      <td>0</td>\n",
       "      <td>1</td>\n",
       "      <td>0</td>\n",
       "      <td>0</td>\n",
       "      <td>...</td>\n",
       "      <td>0</td>\n",
       "      <td>1</td>\n",
       "      <td>0</td>\n",
       "      <td>0</td>\n",
       "      <td>1</td>\n",
       "      <td>0</td>\n",
       "      <td>0</td>\n",
       "      <td>1</td>\n",
       "      <td>0</td>\n",
       "      <td>0</td>\n",
       "    </tr>\n",
       "  </tbody>\n",
       "</table>\n",
       "<p>5 rows × 29 columns</p>\n",
       "</div>"
      ],
      "text/plain": [
       "        Age  SibSp  Parch      Fare  family_size_0  family_size_1  \\\n",
       "0 -0.536933      1      0 -0.497646              1              0   \n",
       "1  0.655787      1      0  0.837243              1              0   \n",
       "2 -0.238753      0      0 -0.483574              0              1   \n",
       "3  0.432152      1      0  0.458180              1              0   \n",
       "4  0.432152      0      0 -0.480968              0              1   \n",
       "\n",
       "   family_size_2  Fsize_1  Fsize_2  Fsize_3  ...  Sex_female  Sex_male  \\\n",
       "0              0        0        1        0  ...           0         1   \n",
       "1              0        0        1        0  ...           1         0   \n",
       "2              0        1        0        0  ...           1         0   \n",
       "3              0        0        1        0  ...           1         0   \n",
       "4              0        1        0        0  ...           0         1   \n",
       "\n",
       "   Pclass_1  Pclass_2  Pclass_3  Title_Master  Title_Miss  Title_Mr  \\\n",
       "0         0         0         1             0           0         1   \n",
       "1         1         0         0             0           0         0   \n",
       "2         0         0         1             0           1         0   \n",
       "3         1         0         0             0           0         0   \n",
       "4         0         0         1             0           0         1   \n",
       "\n",
       "   Title_Mrs  Title_other  \n",
       "0          0            0  \n",
       "1          1            0  \n",
       "2          0            0  \n",
       "3          1            0  \n",
       "4          0            0  \n",
       "\n",
       "[5 rows x 29 columns]"
      ]
     },
     "execution_count": 242,
     "metadata": {},
     "output_type": "execute_result"
    }
   ],
   "source": [
    "x.head()"
   ]
  },
  {
   "cell_type": "code",
   "execution_count": 243,
   "id": "d58e7795",
   "metadata": {},
   "outputs": [],
   "source": [
    "x_train, x_test, y_train, y_test = train_test_split(x,y,test_size=0.25,random_state=42)"
   ]
  },
  {
   "cell_type": "code",
   "execution_count": 244,
   "id": "88971af5",
   "metadata": {},
   "outputs": [
    {
     "name": "stdout",
     "output_type": "stream",
     "text": [
      "Training Accuracy: % 82.88\n",
      "Testing Accuracy: % 82.81\n"
     ]
    }
   ],
   "source": [
    "logreg = LogisticRegression()\n",
    "logreg.fit(x_train, y_train)\n",
    "acc_log_train = round(logreg.score(x_train, y_train)*100,2) \n",
    "acc_log_test = round(logreg.score(x_test,y_test)*100,2)\n",
    "print(\"Training Accuracy: % {}\".format(acc_log_train))\n",
    "print(\"Testing Accuracy: % {}\".format(acc_log_test))"
   ]
  },
  {
   "cell_type": "markdown",
   "id": "b156cc49",
   "metadata": {},
   "source": [
    "### Hyperparameter Tuning -- Grid Search -- Cross Validation"
   ]
  },
  {
   "cell_type": "raw",
   "id": "33018e50",
   "metadata": {},
   "source": [
    "5 makine öğrenmesi algoritmasını birlikte çalıştırcaz ."
   ]
  },
  {
   "cell_type": "raw",
   "id": "10dc84b4",
   "metadata": {},
   "source": [
    "Decision Tree\n",
    "SVM\n",
    "Random Forest\n",
    "KNN\n",
    "Logistic Regression"
   ]
  },
  {
   "cell_type": "raw",
   "id": "27ebf19d",
   "metadata": {},
   "source": [
    "Tuning paramters"
   ]
  },
  {
   "cell_type": "code",
   "execution_count": 245,
   "id": "da9b3719",
   "metadata": {},
   "outputs": [],
   "source": [
    "random_state = 42\n",
    "\n",
    "classifier = [DecisionTreeClassifier(random_state=random_state),\n",
    "             SVC(random_state=random_state,probability=True),\n",
    "             RandomForestClassifier(random_state=random_state),\n",
    "             LogisticRegression(random_state=random_state),\n",
    "             KNeighborsClassifier()]\n",
    "\n",
    "dt_param_grid = {\"min_samples_split\" : range(10,500,20),\n",
    "                \"max_depth\": range(1,20,2)}\n",
    "\n",
    "svc_param_grid = {\"kernel\" : [\"rbf\"],\n",
    "                 \"gamma\": [0.001, 0.01, 0.1, 1],\n",
    "                 \"C\": [1,10,50,100,200,300,1000]\n",
    "                 }\n",
    "\n",
    "rf_param_grid = {\"max_features\": [1,3,10],\n",
    "                \"min_samples_split\":[2,3,10],\n",
    "                \"min_samples_leaf\":[1,3,10],\n",
    "                \"bootstrap\":[False],\n",
    "                \"n_estimators\":[100,300],\n",
    "                \"criterion\":[\"gini\"]}\n",
    "\n",
    "logreg_param_grid = {\"C\":np.logspace(-3,3,7),\n",
    "                    \"penalty\": [\"l1\",\"l2\"]}\n",
    "\n",
    "knn_param_grid = {\"n_neighbors\": np.linspace(1,19,10, dtype = int).tolist(),\n",
    "                 \"weights\": [\"uniform\",\"distance\"],\n",
    "                 \"metric\":[\"euclidean\",\"manhattan\"]}\n",
    "classifier_param = [dt_param_grid,\n",
    "                   svc_param_grid,\n",
    "                   rf_param_grid,\n",
    "                   logreg_param_grid,\n",
    "                   knn_param_grid]"
   ]
  },
  {
   "cell_type": "code",
   "execution_count": 246,
   "id": "79a47d18",
   "metadata": {},
   "outputs": [],
   "source": [
    "from sklearn.ensemble import VotingClassifier\n",
    "from sklearn.model_selection import StratifiedKFold"
   ]
  },
  {
   "cell_type": "code",
   "execution_count": 247,
   "id": "5d72546a",
   "metadata": {},
   "outputs": [
    {
     "name": "stdout",
     "output_type": "stream",
     "text": [
      "Fitting 10 folds for each of 250 candidates, totalling 2500 fits\n",
      "0.8242424242424242\n",
      "Fitting 10 folds for each of 28 candidates, totalling 280 fits\n",
      "0.8287878787878787\n",
      "Fitting 10 folds for each of 54 candidates, totalling 540 fits\n",
      "0.8424242424242424\n",
      "Fitting 10 folds for each of 14 candidates, totalling 140 fits\n",
      "0.8242424242424242\n",
      "Fitting 10 folds for each of 40 candidates, totalling 400 fits\n",
      "0.8257575757575758\n",
      "21.689594745635986\n"
     ]
    }
   ],
   "source": [
    "import time\n",
    "times = time.time()\n",
    "cv_result = []\n",
    "best_estimators = []\n",
    "for i in range(len(classifier)):\n",
    "    clf = GridSearchCV(classifier[i], param_grid=classifier_param[i], \n",
    "        cv = StratifiedKFold(n_splits = 10), scoring = \"accuracy\", \n",
    "        n_jobs = -1,verbose = 1)\n",
    "    clf.fit(x_train,y_train)\n",
    "    cv_result.append(clf.best_score_)\n",
    "    best_estimators.append(clf.best_estimator_)\n",
    "    print(cv_result[i])\n",
    "print(time.time()-times)  "
   ]
  },
  {
   "cell_type": "code",
   "execution_count": 248,
   "id": "64dd0c4a",
   "metadata": {},
   "outputs": [
    {
     "ename": "AttributeError",
     "evalue": "module 'matplotlib.pyplot' has no attribute 'set_ylabels'",
     "output_type": "error",
     "traceback": [
      "\u001b[1;31m---------------------------------------------------------------------------\u001b[0m",
      "\u001b[1;31mAttributeError\u001b[0m                            Traceback (most recent call last)",
      "Cell \u001b[1;32mIn[248], line 7\u001b[0m\n\u001b[0;32m      5\u001b[0m g \u001b[38;5;241m=\u001b[39m sns\u001b[38;5;241m.\u001b[39mcatplot(x\u001b[38;5;241m=\u001b[39m\u001b[38;5;124m\"\u001b[39m\u001b[38;5;124mCross Validation Means\u001b[39m\u001b[38;5;124m\"\u001b[39m, y\u001b[38;5;241m=\u001b[39m \u001b[38;5;124m\"\u001b[39m\u001b[38;5;124mML Models\u001b[39m\u001b[38;5;124m\"\u001b[39m, data \u001b[38;5;241m=\u001b[39m cv_results,kind\u001b[38;5;241m=\u001b[39m\u001b[38;5;124m\"\u001b[39m\u001b[38;5;124mbar\u001b[39m\u001b[38;5;124m\"\u001b[39m)\n\u001b[0;32m      6\u001b[0m \u001b[38;5;66;03m#g.set_xlabel(\"Mean Accuracy\")\u001b[39;00m\n\u001b[1;32m----> 7\u001b[0m plt\u001b[38;5;241m.\u001b[39mset_ylabels(\u001b[38;5;124m\"\u001b[39m\u001b[38;5;124mCross Validation Scores\u001b[39m\u001b[38;5;124m\"\u001b[39m)\n\u001b[0;32m      8\u001b[0m plt\u001b[38;5;241m.\u001b[39mshow()\n",
      "\u001b[1;31mAttributeError\u001b[0m: module 'matplotlib.pyplot' has no attribute 'set_ylabels'"
     ]
    },
    {
     "data": {
      "image/png": "[encoded data removed]",
      "text/plain": [
       "<Figure size 500x500 with 1 Axes>"
      ]
     },
     "metadata": {},
     "output_type": "display_data"
    }
   ],
   "source": [
    "cv_results = pd.DataFrame({\"Cross Validation Means\":cv_result, \"ML Models\":[\"DecisionTreeClassifier\", \"SVM\",\"RandomForestClassifier\",\n",
    "             \"LogisticRegression\",\n",
    "             \"KNeighborsClassifier\"]})\n",
    "\n",
    "g = sns.catplot(x=\"Cross Validation Means\", y= \"ML Models\", data = cv_results,kind=\"bar\")\n",
    "#g.set_xlabel(\"Mean Accuracy\")\n",
    "plt.set_ylabels(\"Cross Validation Scores\")\n",
    "plt.show()"
   ]
  },
  {
   "cell_type": "code",
   "execution_count": 249,
   "id": "21fcc541",
   "metadata": {},
   "outputs": [],
   "source": [
    "votingC = VotingClassifier(estimators=[(\"dt\",best_estimators[0]),\n",
    "                                       (\"svc\",best_estimators[1]),\n",
    "                                        (\"rfc\",best_estimators[2]),\n",
    "                                        (\"lr\",best_estimators[3])],\n",
    "                                        voting = \"soft\", n_jobs = -1)"
   ]
  },
  {
   "cell_type": "code",
   "execution_count": 250,
   "id": "74d0a874",
   "metadata": {},
   "outputs": [
    {
     "name": "stdout",
     "output_type": "stream",
     "text": [
      "0.18360686302185059\n"
     ]
    }
   ],
   "source": [
    "times = time.time()\n",
    "votingC = votingC.fit(x_train,y_train)\n",
    "print(time.time()-times)"
   ]
  },
  {
   "cell_type": "code",
   "execution_count": 251,
   "id": "b4cdc64e",
   "metadata": {},
   "outputs": [
    {
     "name": "stdout",
     "output_type": "stream",
     "text": [
      "0.8280542986425339\n"
     ]
    }
   ],
   "source": [
    "print(accuracy_score(votingC.predict(x_test),y_test))"
   ]
  },
  {
   "cell_type": "code",
   "execution_count": 252,
   "id": "33d27af6",
   "metadata": {},
   "outputs": [
    {
     "name": "stdout",
     "output_type": "stream",
     "text": [
      "0.8280542986425339\n"
     ]
    }
   ],
   "source": [
    "print(accuracy_score(votingC.predict(x_test),y_test))"
   ]
  },
  {
   "cell_type": "code",
   "execution_count": 253,
   "id": "f65f36bd",
   "metadata": {},
   "outputs": [],
   "source": [
    "from sklearn.metrics import mean_squared_error"
   ]
  },
  {
   "cell_type": "code",
   "execution_count": 254,
   "id": "fbd16048",
   "metadata": {},
   "outputs": [
    {
     "data": {
      "text/plain": [
       "0.4146633590727134"
      ]
     },
     "execution_count": 254,
     "metadata": {},
     "output_type": "execute_result"
    }
   ],
   "source": [
    "np.sqrt(mean_squared_error(y_test,votingC.predict(x_test)))"
   ]
  },
  {
   "cell_type": "code",
   "execution_count": 255,
   "id": "5eba6240",
   "metadata": {},
   "outputs": [
    {
     "data": {
      "text/plain": [
       "0.36097511036500884"
      ]
     },
     "execution_count": 255,
     "metadata": {},
     "output_type": "execute_result"
    }
   ],
   "source": [
    "np.sqrt(mean_squared_error(y_train,votingC.predict(x_train)))"
   ]
  },
  {
   "cell_type": "code",
   "execution_count": null,
   "id": "ada6540e",
   "metadata": {},
   "outputs": [],
   "source": []
  }
 ],
 "metadata": {
  "kernelspec": {
   "display_name": "Python 3 (ipykernel)",
   "language": "python",
   "name": "python3"
  },
  "language_info": {
   "codemirror_mode": {
    "name": "ipython",
    "version": 3
   },
   "file_extension": ".py",
   "mimetype": "text/x-python",
   "name": "python",
   "nbconvert_exporter": "python",
   "pygments_lexer": "ipython3",
   "version": "3.11.2"
  }
 },
 "nbformat": 4,
 "nbformat_minor": 5
}
